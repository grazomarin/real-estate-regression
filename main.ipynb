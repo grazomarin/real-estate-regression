{
 "cells": [
  {
   "cell_type": "markdown",
   "metadata": {},
   "source": [
    "# USA Real Estate Prices Prediction\n",
    "## Introduction\n",
    "For the past decades real estate has been one of the hottest topics, especially in North America. \n",
    "The goal of my project is to leverage linear regression in order to predict the house prices in Pennsylvania state. The dataset encompasses dates of sale from 1900 up to 2023. Of course I won't be using all of the data, only from 2015-2023 to account for inflation and devaluation of USD. I also will limit the house prices to 1000000$, house size to less than 5000 sqft and bedroom and bathroom numbers to less than 6, because going above 1 million will skew the data too much.\n",
    "\n",
    "\n",
    "The question that will be answered throughout this project is: \n",
    "> **How much will a given property cost given the past history of real-estate sold?**\n",
    "\n",
    "## Methods\n",
    "\n",
    "### Variables\n",
    "The variables that I will be using to answer the major question are: \n",
    "1. bed - number of bedrooms \n",
    "2. bath - number of baths\n",
    "3. house size - how big was the living space in square feet\n",
    "4. price - price of the property in thousands of USD\n",
    "\n",
    "### KNN Regression\n",
    "The way I am going to use those variables is I am going to build an optimized KNN regression model that utilizes bedroom #, bathroom # and house size in order to predict a house's price.\n",
    "\n",
    "## Expected outcomes and significance:\n",
    "### What do you expect to find?\n",
    "Whether a house price can be accurately predicted just using 3 variables.\n",
    "### What impact could such findings have?\n",
    "It can give you an idea of for how much will a certain property go for on the market\n",
    "### What future questions could this lead to?\n",
    "Will the variables that have the highest impact on the house's pricing will still have that same impact after several years?"
   ]
  },
  {
   "cell_type": "markdown",
   "metadata": {},
   "source": [
    "## Preliminary Exploratory Data Analysis\n",
    "### Data Import and Inspection"
   ]
  },
  {
   "cell_type": "code",
   "execution_count": 17,
   "metadata": {
    "vscode": {
     "languageId": "r"
    }
   },
   "outputs": [],
   "source": [
    "# install these packages! it is going to take a bit\n",
    "\n",
    "install.packages(\"tidyverse\")\n",
    "install.packages(\"repr\")\n",
    "install.packages(\"tidymodels\")\n",
    "install.packages(\"rlang\")\n",
    "install.packages(\"kknn\")"
   ]
  },
  {
   "cell_type": "code",
   "execution_count": 18,
   "metadata": {
    "vscode": {
     "languageId": "r"
    }
   },
   "outputs": [],
   "source": [
    "# Run this cell before continuing.\n",
    "library(ggplot2)\n",
    "library(tidyverse)\n",
    "library(tidymodels)\n",
    "library(repr)\n",
    "library(infer)"
   ]
  },
  {
   "cell_type": "markdown",
   "metadata": {},
   "source": [
    "In the cell below I \"cleaned up\" the initial dataset. The new dataset will serve as the \"main\" dataset using which we will be asking questions further down the project!"
   ]
  },
  {
   "cell_type": "code",
   "execution_count": 19,
   "metadata": {
    "vscode": {
     "languageId": "r"
    }
   },
   "outputs": [
    {
     "name": "stderr",
     "output_type": "stream",
     "text": [
      "\u001b[1mRows: \u001b[22m\u001b[34m2501666\u001b[39m \u001b[1mColumns: \u001b[22m\u001b[34m10\u001b[39m\n",
      "\u001b[36m──\u001b[39m \u001b[1mColumn specification\u001b[22m \u001b[36m────────────────────────────────────────────────────────\u001b[39m\n",
      "\u001b[1mDelimiter:\u001b[22m \",\"\n",
      "\u001b[31mchr\u001b[39m  (3): status, city, state\n",
      "\u001b[32mdbl\u001b[39m  (6): bed, bath, acre_lot, zip_code, house_size, price\n",
      "\u001b[34mdate\u001b[39m (1): prev_sold_date\n",
      "\n",
      "\u001b[36mℹ\u001b[39m Use `spec()` to retrieve the full column specification for this data.\n",
      "\u001b[36mℹ\u001b[39m Specify the column types or set `show_col_types = FALSE` to quiet this message.\n"
     ]
    },
    {
     "data": {
      "text/html": [
       "<table class=\"dataframe\">\n",
       "<caption>A spec_tbl_df: 2501666 × 10</caption>\n",
       "<thead>\n",
       "\t<tr><th scope=col>status</th><th scope=col>bed</th><th scope=col>bath</th><th scope=col>acre_lot</th><th scope=col>city</th><th scope=col>state</th><th scope=col>zip_code</th><th scope=col>house_size</th><th scope=col>prev_sold_date</th><th scope=col>price</th></tr>\n",
       "\t<tr><th scope=col>&lt;chr&gt;</th><th scope=col>&lt;dbl&gt;</th><th scope=col>&lt;dbl&gt;</th><th scope=col>&lt;dbl&gt;</th><th scope=col>&lt;chr&gt;</th><th scope=col>&lt;chr&gt;</th><th scope=col>&lt;dbl&gt;</th><th scope=col>&lt;dbl&gt;</th><th scope=col>&lt;date&gt;</th><th scope=col>&lt;dbl&gt;</th></tr>\n",
       "</thead>\n",
       "<tbody>\n",
       "\t<tr><td>for_sale</td><td>3</td><td>2</td><td> 0.12</td><td>Adjuntas     </td><td>Puerto Rico</td><td>601</td><td> 920</td><td>NA</td><td>105000</td></tr>\n",
       "\t<tr><td>for_sale</td><td>4</td><td>2</td><td> 0.08</td><td>Adjuntas     </td><td>Puerto Rico</td><td>601</td><td>1527</td><td>NA</td><td> 80000</td></tr>\n",
       "\t<tr><td>for_sale</td><td>2</td><td>1</td><td> 0.15</td><td>Juana Diaz   </td><td>Puerto Rico</td><td>795</td><td> 748</td><td>NA</td><td> 67000</td></tr>\n",
       "\t<tr><td>for_sale</td><td>4</td><td>2</td><td> 0.10</td><td>Ponce        </td><td>Puerto Rico</td><td>731</td><td>1800</td><td>NA</td><td>145000</td></tr>\n",
       "\t<tr><td>for_sale</td><td>6</td><td>2</td><td> 0.05</td><td>Mayaguez     </td><td>Puerto Rico</td><td>680</td><td>  NA</td><td>NA</td><td> 65000</td></tr>\n",
       "\t<tr><td>for_sale</td><td>4</td><td>3</td><td> 0.46</td><td>San Sebastian</td><td>Puerto Rico</td><td>612</td><td>2520</td><td>NA</td><td>179000</td></tr>\n",
       "\t<tr><td>for_sale</td><td>3</td><td>1</td><td> 0.20</td><td>Ciales       </td><td>Puerto Rico</td><td>639</td><td>2040</td><td>NA</td><td> 50000</td></tr>\n",
       "\t<tr><td>for_sale</td><td>3</td><td>2</td><td> 0.08</td><td>Ponce        </td><td>Puerto Rico</td><td>731</td><td>1050</td><td>NA</td><td> 71600</td></tr>\n",
       "\t<tr><td>for_sale</td><td>2</td><td>1</td><td> 0.09</td><td>Ponce        </td><td>Puerto Rico</td><td>730</td><td>1092</td><td>NA</td><td>100000</td></tr>\n",
       "\t<tr><td>for_sale</td><td>5</td><td>3</td><td> 7.46</td><td>Las Marias   </td><td>Puerto Rico</td><td>670</td><td>5403</td><td>NA</td><td>300000</td></tr>\n",
       "\t<tr><td>for_sale</td><td>3</td><td>2</td><td>13.39</td><td>Isabela      </td><td>Puerto Rico</td><td>662</td><td>1106</td><td>NA</td><td> 89000</td></tr>\n",
       "\t<tr><td>for_sale</td><td>3</td><td>2</td><td> 0.08</td><td>Juana Diaz   </td><td>Puerto Rico</td><td>795</td><td>1045</td><td>NA</td><td>150000</td></tr>\n",
       "\t<tr><td>for_sale</td><td>3</td><td>2</td><td> 0.10</td><td>Lares        </td><td>Puerto Rico</td><td>669</td><td>4161</td><td>NA</td><td>155000</td></tr>\n",
       "\t<tr><td>for_sale</td><td>5</td><td>2</td><td> 0.12</td><td>Utuado       </td><td>Puerto Rico</td><td>641</td><td>1620</td><td>NA</td><td> 79000</td></tr>\n",
       "\t<tr><td>for_sale</td><td>5</td><td>5</td><td> 0.74</td><td>Ponce        </td><td>Puerto Rico</td><td>731</td><td>2677</td><td>NA</td><td>649000</td></tr>\n",
       "\t<tr><td>for_sale</td><td>3</td><td>2</td><td> 0.08</td><td>Yauco        </td><td>Puerto Rico</td><td>698</td><td>1100</td><td>NA</td><td>120000</td></tr>\n",
       "\t<tr><td>for_sale</td><td>4</td><td>4</td><td> 0.22</td><td>Mayaguez     </td><td>Puerto Rico</td><td>680</td><td>3450</td><td>NA</td><td>235000</td></tr>\n",
       "\t<tr><td>for_sale</td><td>3</td><td>2</td><td> 0.08</td><td>Ponce        </td><td>Puerto Rico</td><td>728</td><td>1500</td><td>NA</td><td>105000</td></tr>\n",
       "\t<tr><td>for_sale</td><td>3</td><td>2</td><td> 3.88</td><td>San Sebastian</td><td>Puerto Rico</td><td>685</td><td>4000</td><td>NA</td><td>575000</td></tr>\n",
       "\t<tr><td>for_sale</td><td>6</td><td>3</td><td> 0.25</td><td>Anasco       </td><td>Puerto Rico</td><td>610</td><td>1230</td><td>NA</td><td>140000</td></tr>\n",
       "\t<tr><td>for_sale</td><td>2</td><td>1</td><td> 0.23</td><td>Yauco        </td><td>Puerto Rico</td><td>698</td><td> 621</td><td>NA</td><td> 50000</td></tr>\n",
       "\t<tr><td>for_sale</td><td>6</td><td>3</td><td> 0.10</td><td>Moca         </td><td>Puerto Rico</td><td>676</td><td>3000</td><td>NA</td><td>165000</td></tr>\n",
       "\t<tr><td>for_sale</td><td>3</td><td>1</td><td> 2.00</td><td>Coamo        </td><td>Puerto Rico</td><td>769</td><td>1213</td><td>NA</td><td>189000</td></tr>\n",
       "\t<tr><td>for_sale</td><td>3</td><td>2</td><td>   NA</td><td>Ponce        </td><td>Puerto Rico</td><td>716</td><td>1148</td><td>NA</td><td>115000</td></tr>\n",
       "\t<tr><td>for_sale</td><td>3</td><td>2</td><td> 0.05</td><td>Yauco        </td><td>Puerto Rico</td><td>698</td><td>1118</td><td>NA</td><td>122500</td></tr>\n",
       "\t<tr><td>for_sale</td><td>3</td><td>2</td><td> 0.28</td><td>San Sebastian</td><td>Puerto Rico</td><td>685</td><td>1500</td><td>NA</td><td>255000</td></tr>\n",
       "\t<tr><td>for_sale</td><td>4</td><td>3</td><td> 0.30</td><td>Ponce        </td><td>Puerto Rico</td><td>730</td><td>3000</td><td>NA</td><td>425000</td></tr>\n",
       "\t<tr><td>for_sale</td><td>4</td><td>2</td><td> 0.11</td><td>Guayanilla   </td><td>Puerto Rico</td><td>656</td><td>1300</td><td>NA</td><td> 93000</td></tr>\n",
       "\t<tr><td>for_sale</td><td>4</td><td>2</td><td> 0.04</td><td>Manati       </td><td>Puerto Rico</td><td>676</td><td>1080</td><td>NA</td><td> 75000</td></tr>\n",
       "\t<tr><td>for_sale</td><td>3</td><td>2</td><td> 0.69</td><td>Isabela      </td><td>Puerto Rico</td><td>662</td><td>2505</td><td>NA</td><td>469000</td></tr>\n",
       "\t<tr><td>⋮</td><td>⋮</td><td>⋮</td><td>⋮</td><td>⋮</td><td>⋮</td><td>⋮</td><td>⋮</td><td>⋮</td><td>⋮</td></tr>\n",
       "\t<tr><td>ready_to_build</td><td>4</td><td>NA</td><td>NA</td><td>Bel Air</td><td>Maryland</td><td>21015</td><td>2627</td><td>NA</td><td>667727</td></tr>\n",
       "\t<tr><td>ready_to_build</td><td>4</td><td>NA</td><td>NA</td><td>Bel Air</td><td>Maryland</td><td>21015</td><td>2700</td><td>NA</td><td>673126</td></tr>\n",
       "\t<tr><td>ready_to_build</td><td>4</td><td>NA</td><td>NA</td><td>Bel Air</td><td>Maryland</td><td>21015</td><td>2705</td><td>NA</td><td>659403</td></tr>\n",
       "\t<tr><td>ready_to_build</td><td>4</td><td>NA</td><td>NA</td><td>Bel Air</td><td>Maryland</td><td>21015</td><td>2716</td><td>NA</td><td>660904</td></tr>\n",
       "\t<tr><td>ready_to_build</td><td>4</td><td>NA</td><td>NA</td><td>Bel Air</td><td>Maryland</td><td>21015</td><td>2700</td><td>NA</td><td>671163</td></tr>\n",
       "\t<tr><td>ready_to_build</td><td>4</td><td>NA</td><td>NA</td><td>Bel Air</td><td>Maryland</td><td>21015</td><td>2789</td><td>NA</td><td>679501</td></tr>\n",
       "\t<tr><td>ready_to_build</td><td>4</td><td>NA</td><td>NA</td><td>Bel Air</td><td>Maryland</td><td>21015</td><td>2705</td><td>NA</td><td>668928</td></tr>\n",
       "\t<tr><td>ready_to_build</td><td>4</td><td>NA</td><td>NA</td><td>Bel Air</td><td>Maryland</td><td>21015</td><td>2705</td><td>NA</td><td>667976</td></tr>\n",
       "\t<tr><td>ready_to_build</td><td>4</td><td>NA</td><td>NA</td><td>Bel Air</td><td>Maryland</td><td>21015</td><td>2723</td><td>NA</td><td>666329</td></tr>\n",
       "\t<tr><td>ready_to_build</td><td>4</td><td>NA</td><td>NA</td><td>Bel Air</td><td>Maryland</td><td>21015</td><td>2787</td><td>NA</td><td>679521</td></tr>\n",
       "\t<tr><td>ready_to_build</td><td>4</td><td>NA</td><td>NA</td><td>Bel Air</td><td>Maryland</td><td>21015</td><td>3211</td><td>NA</td><td>702674</td></tr>\n",
       "\t<tr><td>ready_to_build</td><td>4</td><td>NA</td><td>NA</td><td>Bel Air</td><td>Maryland</td><td>21015</td><td>2789</td><td>NA</td><td>675692</td></tr>\n",
       "\t<tr><td>ready_to_build</td><td>4</td><td>NA</td><td>NA</td><td>Bel Air</td><td>Maryland</td><td>21015</td><td>2787</td><td>NA</td><td>684907</td></tr>\n",
       "\t<tr><td>ready_to_build</td><td>4</td><td>NA</td><td>NA</td><td>Bel Air</td><td>Maryland</td><td>21015</td><td>3211</td><td>NA</td><td>699653</td></tr>\n",
       "\t<tr><td>ready_to_build</td><td>4</td><td>NA</td><td>NA</td><td>Bel Air</td><td>Maryland</td><td>21015</td><td>2789</td><td>NA</td><td>671881</td></tr>\n",
       "\t<tr><td>ready_to_build</td><td>4</td><td>NA</td><td>NA</td><td>Bel Air</td><td>Maryland</td><td>21015</td><td>2594</td><td>NA</td><td>660238</td></tr>\n",
       "\t<tr><td>ready_to_build</td><td>4</td><td>NA</td><td>NA</td><td>Bel Air</td><td>Maryland</td><td>21015</td><td>3200</td><td>NA</td><td>735373</td></tr>\n",
       "\t<tr><td>ready_to_build</td><td>4</td><td>NA</td><td>NA</td><td>Baldwin</td><td>Maryland</td><td>21013</td><td>3633</td><td>NA</td><td>936565</td></tr>\n",
       "\t<tr><td>ready_to_build</td><td>4</td><td>NA</td><td>NA</td><td>Baldwin</td><td>Maryland</td><td>21013</td><td>3658</td><td>NA</td><td>946064</td></tr>\n",
       "\t<tr><td>ready_to_build</td><td>4</td><td>NA</td><td>NA</td><td>Baldwin</td><td>Maryland</td><td>21013</td><td>2787</td><td>NA</td><td>926374</td></tr>\n",
       "\t<tr><td>ready_to_build</td><td>4</td><td>NA</td><td>NA</td><td>Baldwin</td><td>Maryland</td><td>21013</td><td>2716</td><td>NA</td><td>906235</td></tr>\n",
       "\t<tr><td>ready_to_build</td><td>4</td><td>NA</td><td>NA</td><td>Baldwin</td><td>Maryland</td><td>21013</td><td>2705</td><td>NA</td><td>917050</td></tr>\n",
       "\t<tr><td>ready_to_build</td><td>4</td><td>NA</td><td>NA</td><td>Baldwin</td><td>Maryland</td><td>21013</td><td>3624</td><td>NA</td><td>948735</td></tr>\n",
       "\t<tr><td>ready_to_build</td><td>4</td><td>NA</td><td>NA</td><td>Baldwin</td><td>Maryland</td><td>21013</td><td>2700</td><td>NA</td><td>917734</td></tr>\n",
       "\t<tr><td>ready_to_build</td><td>4</td><td>NA</td><td>NA</td><td>Baldwin</td><td>Maryland</td><td>21013</td><td>3616</td><td>NA</td><td>952702</td></tr>\n",
       "\t<tr><td>ready_to_build</td><td>4</td><td>NA</td><td>NA</td><td>Baldwin</td><td>Maryland</td><td>21013</td><td>2627</td><td>NA</td><td>912825</td></tr>\n",
       "\t<tr><td>ready_to_build</td><td>4</td><td>NA</td><td>NA</td><td>Baldwin</td><td>Maryland</td><td>21013</td><td>2781</td><td>NA</td><td>924735</td></tr>\n",
       "\t<tr><td>ready_to_build</td><td>4</td><td>NA</td><td>NA</td><td>Baldwin</td><td>Maryland</td><td>21013</td><td>2789</td><td>NA</td><td>918735</td></tr>\n",
       "\t<tr><td>ready_to_build</td><td>4</td><td>NA</td><td>NA</td><td>Baldwin</td><td>Maryland</td><td>21013</td><td>2789</td><td>NA</td><td>922735</td></tr>\n",
       "\t<tr><td>ready_to_build</td><td>4</td><td>NA</td><td>NA</td><td>Baldwin</td><td>Maryland</td><td>21013</td><td>3200</td><td>NA</td><td>922735</td></tr>\n",
       "</tbody>\n",
       "</table>\n"
      ],
      "text/latex": [
       "A spec\\_tbl\\_df: 2501666 × 10\n",
       "\\begin{tabular}{llllllllll}\n",
       " status & bed & bath & acre\\_lot & city & state & zip\\_code & house\\_size & prev\\_sold\\_date & price\\\\\n",
       " <chr> & <dbl> & <dbl> & <dbl> & <chr> & <chr> & <dbl> & <dbl> & <date> & <dbl>\\\\\n",
       "\\hline\n",
       "\t for\\_sale & 3 & 2 &  0.12 & Adjuntas      & Puerto Rico & 601 &  920 & NA & 105000\\\\\n",
       "\t for\\_sale & 4 & 2 &  0.08 & Adjuntas      & Puerto Rico & 601 & 1527 & NA &  80000\\\\\n",
       "\t for\\_sale & 2 & 1 &  0.15 & Juana Diaz    & Puerto Rico & 795 &  748 & NA &  67000\\\\\n",
       "\t for\\_sale & 4 & 2 &  0.10 & Ponce         & Puerto Rico & 731 & 1800 & NA & 145000\\\\\n",
       "\t for\\_sale & 6 & 2 &  0.05 & Mayaguez      & Puerto Rico & 680 &   NA & NA &  65000\\\\\n",
       "\t for\\_sale & 4 & 3 &  0.46 & San Sebastian & Puerto Rico & 612 & 2520 & NA & 179000\\\\\n",
       "\t for\\_sale & 3 & 1 &  0.20 & Ciales        & Puerto Rico & 639 & 2040 & NA &  50000\\\\\n",
       "\t for\\_sale & 3 & 2 &  0.08 & Ponce         & Puerto Rico & 731 & 1050 & NA &  71600\\\\\n",
       "\t for\\_sale & 2 & 1 &  0.09 & Ponce         & Puerto Rico & 730 & 1092 & NA & 100000\\\\\n",
       "\t for\\_sale & 5 & 3 &  7.46 & Las Marias    & Puerto Rico & 670 & 5403 & NA & 300000\\\\\n",
       "\t for\\_sale & 3 & 2 & 13.39 & Isabela       & Puerto Rico & 662 & 1106 & NA &  89000\\\\\n",
       "\t for\\_sale & 3 & 2 &  0.08 & Juana Diaz    & Puerto Rico & 795 & 1045 & NA & 150000\\\\\n",
       "\t for\\_sale & 3 & 2 &  0.10 & Lares         & Puerto Rico & 669 & 4161 & NA & 155000\\\\\n",
       "\t for\\_sale & 5 & 2 &  0.12 & Utuado        & Puerto Rico & 641 & 1620 & NA &  79000\\\\\n",
       "\t for\\_sale & 5 & 5 &  0.74 & Ponce         & Puerto Rico & 731 & 2677 & NA & 649000\\\\\n",
       "\t for\\_sale & 3 & 2 &  0.08 & Yauco         & Puerto Rico & 698 & 1100 & NA & 120000\\\\\n",
       "\t for\\_sale & 4 & 4 &  0.22 & Mayaguez      & Puerto Rico & 680 & 3450 & NA & 235000\\\\\n",
       "\t for\\_sale & 3 & 2 &  0.08 & Ponce         & Puerto Rico & 728 & 1500 & NA & 105000\\\\\n",
       "\t for\\_sale & 3 & 2 &  3.88 & San Sebastian & Puerto Rico & 685 & 4000 & NA & 575000\\\\\n",
       "\t for\\_sale & 6 & 3 &  0.25 & Anasco        & Puerto Rico & 610 & 1230 & NA & 140000\\\\\n",
       "\t for\\_sale & 2 & 1 &  0.23 & Yauco         & Puerto Rico & 698 &  621 & NA &  50000\\\\\n",
       "\t for\\_sale & 6 & 3 &  0.10 & Moca          & Puerto Rico & 676 & 3000 & NA & 165000\\\\\n",
       "\t for\\_sale & 3 & 1 &  2.00 & Coamo         & Puerto Rico & 769 & 1213 & NA & 189000\\\\\n",
       "\t for\\_sale & 3 & 2 &    NA & Ponce         & Puerto Rico & 716 & 1148 & NA & 115000\\\\\n",
       "\t for\\_sale & 3 & 2 &  0.05 & Yauco         & Puerto Rico & 698 & 1118 & NA & 122500\\\\\n",
       "\t for\\_sale & 3 & 2 &  0.28 & San Sebastian & Puerto Rico & 685 & 1500 & NA & 255000\\\\\n",
       "\t for\\_sale & 4 & 3 &  0.30 & Ponce         & Puerto Rico & 730 & 3000 & NA & 425000\\\\\n",
       "\t for\\_sale & 4 & 2 &  0.11 & Guayanilla    & Puerto Rico & 656 & 1300 & NA &  93000\\\\\n",
       "\t for\\_sale & 4 & 2 &  0.04 & Manati        & Puerto Rico & 676 & 1080 & NA &  75000\\\\\n",
       "\t for\\_sale & 3 & 2 &  0.69 & Isabela       & Puerto Rico & 662 & 2505 & NA & 469000\\\\\n",
       "\t ⋮ & ⋮ & ⋮ & ⋮ & ⋮ & ⋮ & ⋮ & ⋮ & ⋮ & ⋮\\\\\n",
       "\t ready\\_to\\_build & 4 & NA & NA & Bel Air & Maryland & 21015 & 2627 & NA & 667727\\\\\n",
       "\t ready\\_to\\_build & 4 & NA & NA & Bel Air & Maryland & 21015 & 2700 & NA & 673126\\\\\n",
       "\t ready\\_to\\_build & 4 & NA & NA & Bel Air & Maryland & 21015 & 2705 & NA & 659403\\\\\n",
       "\t ready\\_to\\_build & 4 & NA & NA & Bel Air & Maryland & 21015 & 2716 & NA & 660904\\\\\n",
       "\t ready\\_to\\_build & 4 & NA & NA & Bel Air & Maryland & 21015 & 2700 & NA & 671163\\\\\n",
       "\t ready\\_to\\_build & 4 & NA & NA & Bel Air & Maryland & 21015 & 2789 & NA & 679501\\\\\n",
       "\t ready\\_to\\_build & 4 & NA & NA & Bel Air & Maryland & 21015 & 2705 & NA & 668928\\\\\n",
       "\t ready\\_to\\_build & 4 & NA & NA & Bel Air & Maryland & 21015 & 2705 & NA & 667976\\\\\n",
       "\t ready\\_to\\_build & 4 & NA & NA & Bel Air & Maryland & 21015 & 2723 & NA & 666329\\\\\n",
       "\t ready\\_to\\_build & 4 & NA & NA & Bel Air & Maryland & 21015 & 2787 & NA & 679521\\\\\n",
       "\t ready\\_to\\_build & 4 & NA & NA & Bel Air & Maryland & 21015 & 3211 & NA & 702674\\\\\n",
       "\t ready\\_to\\_build & 4 & NA & NA & Bel Air & Maryland & 21015 & 2789 & NA & 675692\\\\\n",
       "\t ready\\_to\\_build & 4 & NA & NA & Bel Air & Maryland & 21015 & 2787 & NA & 684907\\\\\n",
       "\t ready\\_to\\_build & 4 & NA & NA & Bel Air & Maryland & 21015 & 3211 & NA & 699653\\\\\n",
       "\t ready\\_to\\_build & 4 & NA & NA & Bel Air & Maryland & 21015 & 2789 & NA & 671881\\\\\n",
       "\t ready\\_to\\_build & 4 & NA & NA & Bel Air & Maryland & 21015 & 2594 & NA & 660238\\\\\n",
       "\t ready\\_to\\_build & 4 & NA & NA & Bel Air & Maryland & 21015 & 3200 & NA & 735373\\\\\n",
       "\t ready\\_to\\_build & 4 & NA & NA & Baldwin & Maryland & 21013 & 3633 & NA & 936565\\\\\n",
       "\t ready\\_to\\_build & 4 & NA & NA & Baldwin & Maryland & 21013 & 3658 & NA & 946064\\\\\n",
       "\t ready\\_to\\_build & 4 & NA & NA & Baldwin & Maryland & 21013 & 2787 & NA & 926374\\\\\n",
       "\t ready\\_to\\_build & 4 & NA & NA & Baldwin & Maryland & 21013 & 2716 & NA & 906235\\\\\n",
       "\t ready\\_to\\_build & 4 & NA & NA & Baldwin & Maryland & 21013 & 2705 & NA & 917050\\\\\n",
       "\t ready\\_to\\_build & 4 & NA & NA & Baldwin & Maryland & 21013 & 3624 & NA & 948735\\\\\n",
       "\t ready\\_to\\_build & 4 & NA & NA & Baldwin & Maryland & 21013 & 2700 & NA & 917734\\\\\n",
       "\t ready\\_to\\_build & 4 & NA & NA & Baldwin & Maryland & 21013 & 3616 & NA & 952702\\\\\n",
       "\t ready\\_to\\_build & 4 & NA & NA & Baldwin & Maryland & 21013 & 2627 & NA & 912825\\\\\n",
       "\t ready\\_to\\_build & 4 & NA & NA & Baldwin & Maryland & 21013 & 2781 & NA & 924735\\\\\n",
       "\t ready\\_to\\_build & 4 & NA & NA & Baldwin & Maryland & 21013 & 2789 & NA & 918735\\\\\n",
       "\t ready\\_to\\_build & 4 & NA & NA & Baldwin & Maryland & 21013 & 2789 & NA & 922735\\\\\n",
       "\t ready\\_to\\_build & 4 & NA & NA & Baldwin & Maryland & 21013 & 3200 & NA & 922735\\\\\n",
       "\\end{tabular}\n"
      ],
      "text/markdown": [
       "\n",
       "A spec_tbl_df: 2501666 × 10\n",
       "\n",
       "| status &lt;chr&gt; | bed &lt;dbl&gt; | bath &lt;dbl&gt; | acre_lot &lt;dbl&gt; | city &lt;chr&gt; | state &lt;chr&gt; | zip_code &lt;dbl&gt; | house_size &lt;dbl&gt; | prev_sold_date &lt;date&gt; | price &lt;dbl&gt; |\n",
       "|---|---|---|---|---|---|---|---|---|---|\n",
       "| for_sale | 3 | 2 |  0.12 | Adjuntas      | Puerto Rico | 601 |  920 | NA | 105000 |\n",
       "| for_sale | 4 | 2 |  0.08 | Adjuntas      | Puerto Rico | 601 | 1527 | NA |  80000 |\n",
       "| for_sale | 2 | 1 |  0.15 | Juana Diaz    | Puerto Rico | 795 |  748 | NA |  67000 |\n",
       "| for_sale | 4 | 2 |  0.10 | Ponce         | Puerto Rico | 731 | 1800 | NA | 145000 |\n",
       "| for_sale | 6 | 2 |  0.05 | Mayaguez      | Puerto Rico | 680 |   NA | NA |  65000 |\n",
       "| for_sale | 4 | 3 |  0.46 | San Sebastian | Puerto Rico | 612 | 2520 | NA | 179000 |\n",
       "| for_sale | 3 | 1 |  0.20 | Ciales        | Puerto Rico | 639 | 2040 | NA |  50000 |\n",
       "| for_sale | 3 | 2 |  0.08 | Ponce         | Puerto Rico | 731 | 1050 | NA |  71600 |\n",
       "| for_sale | 2 | 1 |  0.09 | Ponce         | Puerto Rico | 730 | 1092 | NA | 100000 |\n",
       "| for_sale | 5 | 3 |  7.46 | Las Marias    | Puerto Rico | 670 | 5403 | NA | 300000 |\n",
       "| for_sale | 3 | 2 | 13.39 | Isabela       | Puerto Rico | 662 | 1106 | NA |  89000 |\n",
       "| for_sale | 3 | 2 |  0.08 | Juana Diaz    | Puerto Rico | 795 | 1045 | NA | 150000 |\n",
       "| for_sale | 3 | 2 |  0.10 | Lares         | Puerto Rico | 669 | 4161 | NA | 155000 |\n",
       "| for_sale | 5 | 2 |  0.12 | Utuado        | Puerto Rico | 641 | 1620 | NA |  79000 |\n",
       "| for_sale | 5 | 5 |  0.74 | Ponce         | Puerto Rico | 731 | 2677 | NA | 649000 |\n",
       "| for_sale | 3 | 2 |  0.08 | Yauco         | Puerto Rico | 698 | 1100 | NA | 120000 |\n",
       "| for_sale | 4 | 4 |  0.22 | Mayaguez      | Puerto Rico | 680 | 3450 | NA | 235000 |\n",
       "| for_sale | 3 | 2 |  0.08 | Ponce         | Puerto Rico | 728 | 1500 | NA | 105000 |\n",
       "| for_sale | 3 | 2 |  3.88 | San Sebastian | Puerto Rico | 685 | 4000 | NA | 575000 |\n",
       "| for_sale | 6 | 3 |  0.25 | Anasco        | Puerto Rico | 610 | 1230 | NA | 140000 |\n",
       "| for_sale | 2 | 1 |  0.23 | Yauco         | Puerto Rico | 698 |  621 | NA |  50000 |\n",
       "| for_sale | 6 | 3 |  0.10 | Moca          | Puerto Rico | 676 | 3000 | NA | 165000 |\n",
       "| for_sale | 3 | 1 |  2.00 | Coamo         | Puerto Rico | 769 | 1213 | NA | 189000 |\n",
       "| for_sale | 3 | 2 |    NA | Ponce         | Puerto Rico | 716 | 1148 | NA | 115000 |\n",
       "| for_sale | 3 | 2 |  0.05 | Yauco         | Puerto Rico | 698 | 1118 | NA | 122500 |\n",
       "| for_sale | 3 | 2 |  0.28 | San Sebastian | Puerto Rico | 685 | 1500 | NA | 255000 |\n",
       "| for_sale | 4 | 3 |  0.30 | Ponce         | Puerto Rico | 730 | 3000 | NA | 425000 |\n",
       "| for_sale | 4 | 2 |  0.11 | Guayanilla    | Puerto Rico | 656 | 1300 | NA |  93000 |\n",
       "| for_sale | 4 | 2 |  0.04 | Manati        | Puerto Rico | 676 | 1080 | NA |  75000 |\n",
       "| for_sale | 3 | 2 |  0.69 | Isabela       | Puerto Rico | 662 | 2505 | NA | 469000 |\n",
       "| ⋮ | ⋮ | ⋮ | ⋮ | ⋮ | ⋮ | ⋮ | ⋮ | ⋮ | ⋮ |\n",
       "| ready_to_build | 4 | NA | NA | Bel Air | Maryland | 21015 | 2627 | NA | 667727 |\n",
       "| ready_to_build | 4 | NA | NA | Bel Air | Maryland | 21015 | 2700 | NA | 673126 |\n",
       "| ready_to_build | 4 | NA | NA | Bel Air | Maryland | 21015 | 2705 | NA | 659403 |\n",
       "| ready_to_build | 4 | NA | NA | Bel Air | Maryland | 21015 | 2716 | NA | 660904 |\n",
       "| ready_to_build | 4 | NA | NA | Bel Air | Maryland | 21015 | 2700 | NA | 671163 |\n",
       "| ready_to_build | 4 | NA | NA | Bel Air | Maryland | 21015 | 2789 | NA | 679501 |\n",
       "| ready_to_build | 4 | NA | NA | Bel Air | Maryland | 21015 | 2705 | NA | 668928 |\n",
       "| ready_to_build | 4 | NA | NA | Bel Air | Maryland | 21015 | 2705 | NA | 667976 |\n",
       "| ready_to_build | 4 | NA | NA | Bel Air | Maryland | 21015 | 2723 | NA | 666329 |\n",
       "| ready_to_build | 4 | NA | NA | Bel Air | Maryland | 21015 | 2787 | NA | 679521 |\n",
       "| ready_to_build | 4 | NA | NA | Bel Air | Maryland | 21015 | 3211 | NA | 702674 |\n",
       "| ready_to_build | 4 | NA | NA | Bel Air | Maryland | 21015 | 2789 | NA | 675692 |\n",
       "| ready_to_build | 4 | NA | NA | Bel Air | Maryland | 21015 | 2787 | NA | 684907 |\n",
       "| ready_to_build | 4 | NA | NA | Bel Air | Maryland | 21015 | 3211 | NA | 699653 |\n",
       "| ready_to_build | 4 | NA | NA | Bel Air | Maryland | 21015 | 2789 | NA | 671881 |\n",
       "| ready_to_build | 4 | NA | NA | Bel Air | Maryland | 21015 | 2594 | NA | 660238 |\n",
       "| ready_to_build | 4 | NA | NA | Bel Air | Maryland | 21015 | 3200 | NA | 735373 |\n",
       "| ready_to_build | 4 | NA | NA | Baldwin | Maryland | 21013 | 3633 | NA | 936565 |\n",
       "| ready_to_build | 4 | NA | NA | Baldwin | Maryland | 21013 | 3658 | NA | 946064 |\n",
       "| ready_to_build | 4 | NA | NA | Baldwin | Maryland | 21013 | 2787 | NA | 926374 |\n",
       "| ready_to_build | 4 | NA | NA | Baldwin | Maryland | 21013 | 2716 | NA | 906235 |\n",
       "| ready_to_build | 4 | NA | NA | Baldwin | Maryland | 21013 | 2705 | NA | 917050 |\n",
       "| ready_to_build | 4 | NA | NA | Baldwin | Maryland | 21013 | 3624 | NA | 948735 |\n",
       "| ready_to_build | 4 | NA | NA | Baldwin | Maryland | 21013 | 2700 | NA | 917734 |\n",
       "| ready_to_build | 4 | NA | NA | Baldwin | Maryland | 21013 | 3616 | NA | 952702 |\n",
       "| ready_to_build | 4 | NA | NA | Baldwin | Maryland | 21013 | 2627 | NA | 912825 |\n",
       "| ready_to_build | 4 | NA | NA | Baldwin | Maryland | 21013 | 2781 | NA | 924735 |\n",
       "| ready_to_build | 4 | NA | NA | Baldwin | Maryland | 21013 | 2789 | NA | 918735 |\n",
       "| ready_to_build | 4 | NA | NA | Baldwin | Maryland | 21013 | 2789 | NA | 922735 |\n",
       "| ready_to_build | 4 | NA | NA | Baldwin | Maryland | 21013 | 3200 | NA | 922735 |\n",
       "\n"
      ],
      "text/plain": [
       "        status         bed bath acre_lot city          state       zip_code\n",
       "1       for_sale       3   2     0.12    Adjuntas      Puerto Rico 601     \n",
       "2       for_sale       4   2     0.08    Adjuntas      Puerto Rico 601     \n",
       "3       for_sale       2   1     0.15    Juana Diaz    Puerto Rico 795     \n",
       "4       for_sale       4   2     0.10    Ponce         Puerto Rico 731     \n",
       "5       for_sale       6   2     0.05    Mayaguez      Puerto Rico 680     \n",
       "6       for_sale       4   3     0.46    San Sebastian Puerto Rico 612     \n",
       "7       for_sale       3   1     0.20    Ciales        Puerto Rico 639     \n",
       "8       for_sale       3   2     0.08    Ponce         Puerto Rico 731     \n",
       "9       for_sale       2   1     0.09    Ponce         Puerto Rico 730     \n",
       "10      for_sale       5   3     7.46    Las Marias    Puerto Rico 670     \n",
       "11      for_sale       3   2    13.39    Isabela       Puerto Rico 662     \n",
       "12      for_sale       3   2     0.08    Juana Diaz    Puerto Rico 795     \n",
       "13      for_sale       3   2     0.10    Lares         Puerto Rico 669     \n",
       "14      for_sale       5   2     0.12    Utuado        Puerto Rico 641     \n",
       "15      for_sale       5   5     0.74    Ponce         Puerto Rico 731     \n",
       "16      for_sale       3   2     0.08    Yauco         Puerto Rico 698     \n",
       "17      for_sale       4   4     0.22    Mayaguez      Puerto Rico 680     \n",
       "18      for_sale       3   2     0.08    Ponce         Puerto Rico 728     \n",
       "19      for_sale       3   2     3.88    San Sebastian Puerto Rico 685     \n",
       "20      for_sale       6   3     0.25    Anasco        Puerto Rico 610     \n",
       "21      for_sale       2   1     0.23    Yauco         Puerto Rico 698     \n",
       "22      for_sale       6   3     0.10    Moca          Puerto Rico 676     \n",
       "23      for_sale       3   1     2.00    Coamo         Puerto Rico 769     \n",
       "24      for_sale       3   2       NA    Ponce         Puerto Rico 716     \n",
       "25      for_sale       3   2     0.05    Yauco         Puerto Rico 698     \n",
       "26      for_sale       3   2     0.28    San Sebastian Puerto Rico 685     \n",
       "27      for_sale       4   3     0.30    Ponce         Puerto Rico 730     \n",
       "28      for_sale       4   2     0.11    Guayanilla    Puerto Rico 656     \n",
       "29      for_sale       4   2     0.04    Manati        Puerto Rico 676     \n",
       "30      for_sale       3   2     0.69    Isabela       Puerto Rico 662     \n",
       "⋮       ⋮              ⋮   ⋮    ⋮        ⋮             ⋮           ⋮       \n",
       "2501637 ready_to_build 4   NA   NA       Bel Air       Maryland    21015   \n",
       "2501638 ready_to_build 4   NA   NA       Bel Air       Maryland    21015   \n",
       "2501639 ready_to_build 4   NA   NA       Bel Air       Maryland    21015   \n",
       "2501640 ready_to_build 4   NA   NA       Bel Air       Maryland    21015   \n",
       "2501641 ready_to_build 4   NA   NA       Bel Air       Maryland    21015   \n",
       "2501642 ready_to_build 4   NA   NA       Bel Air       Maryland    21015   \n",
       "2501643 ready_to_build 4   NA   NA       Bel Air       Maryland    21015   \n",
       "2501644 ready_to_build 4   NA   NA       Bel Air       Maryland    21015   \n",
       "2501645 ready_to_build 4   NA   NA       Bel Air       Maryland    21015   \n",
       "2501646 ready_to_build 4   NA   NA       Bel Air       Maryland    21015   \n",
       "2501647 ready_to_build 4   NA   NA       Bel Air       Maryland    21015   \n",
       "2501648 ready_to_build 4   NA   NA       Bel Air       Maryland    21015   \n",
       "2501649 ready_to_build 4   NA   NA       Bel Air       Maryland    21015   \n",
       "2501650 ready_to_build 4   NA   NA       Bel Air       Maryland    21015   \n",
       "2501651 ready_to_build 4   NA   NA       Bel Air       Maryland    21015   \n",
       "2501652 ready_to_build 4   NA   NA       Bel Air       Maryland    21015   \n",
       "2501653 ready_to_build 4   NA   NA       Bel Air       Maryland    21015   \n",
       "2501654 ready_to_build 4   NA   NA       Baldwin       Maryland    21013   \n",
       "2501655 ready_to_build 4   NA   NA       Baldwin       Maryland    21013   \n",
       "2501656 ready_to_build 4   NA   NA       Baldwin       Maryland    21013   \n",
       "2501657 ready_to_build 4   NA   NA       Baldwin       Maryland    21013   \n",
       "2501658 ready_to_build 4   NA   NA       Baldwin       Maryland    21013   \n",
       "2501659 ready_to_build 4   NA   NA       Baldwin       Maryland    21013   \n",
       "2501660 ready_to_build 4   NA   NA       Baldwin       Maryland    21013   \n",
       "2501661 ready_to_build 4   NA   NA       Baldwin       Maryland    21013   \n",
       "2501662 ready_to_build 4   NA   NA       Baldwin       Maryland    21013   \n",
       "2501663 ready_to_build 4   NA   NA       Baldwin       Maryland    21013   \n",
       "2501664 ready_to_build 4   NA   NA       Baldwin       Maryland    21013   \n",
       "2501665 ready_to_build 4   NA   NA       Baldwin       Maryland    21013   \n",
       "2501666 ready_to_build 4   NA   NA       Baldwin       Maryland    21013   \n",
       "        house_size prev_sold_date price \n",
       "1        920       <NA>           105000\n",
       "2       1527       <NA>            80000\n",
       "3        748       <NA>            67000\n",
       "4       1800       <NA>           145000\n",
       "5         NA       <NA>            65000\n",
       "6       2520       <NA>           179000\n",
       "7       2040       <NA>            50000\n",
       "8       1050       <NA>            71600\n",
       "9       1092       <NA>           100000\n",
       "10      5403       <NA>           300000\n",
       "11      1106       <NA>            89000\n",
       "12      1045       <NA>           150000\n",
       "13      4161       <NA>           155000\n",
       "14      1620       <NA>            79000\n",
       "15      2677       <NA>           649000\n",
       "16      1100       <NA>           120000\n",
       "17      3450       <NA>           235000\n",
       "18      1500       <NA>           105000\n",
       "19      4000       <NA>           575000\n",
       "20      1230       <NA>           140000\n",
       "21       621       <NA>            50000\n",
       "22      3000       <NA>           165000\n",
       "23      1213       <NA>           189000\n",
       "24      1148       <NA>           115000\n",
       "25      1118       <NA>           122500\n",
       "26      1500       <NA>           255000\n",
       "27      3000       <NA>           425000\n",
       "28      1300       <NA>            93000\n",
       "29      1080       <NA>            75000\n",
       "30      2505       <NA>           469000\n",
       "⋮       ⋮          ⋮              ⋮     \n",
       "2501637 2627       <NA>           667727\n",
       "2501638 2700       <NA>           673126\n",
       "2501639 2705       <NA>           659403\n",
       "2501640 2716       <NA>           660904\n",
       "2501641 2700       <NA>           671163\n",
       "2501642 2789       <NA>           679501\n",
       "2501643 2705       <NA>           668928\n",
       "2501644 2705       <NA>           667976\n",
       "2501645 2723       <NA>           666329\n",
       "2501646 2787       <NA>           679521\n",
       "2501647 3211       <NA>           702674\n",
       "2501648 2789       <NA>           675692\n",
       "2501649 2787       <NA>           684907\n",
       "2501650 3211       <NA>           699653\n",
       "2501651 2789       <NA>           671881\n",
       "2501652 2594       <NA>           660238\n",
       "2501653 3200       <NA>           735373\n",
       "2501654 3633       <NA>           936565\n",
       "2501655 3658       <NA>           946064\n",
       "2501656 2787       <NA>           926374\n",
       "2501657 2716       <NA>           906235\n",
       "2501658 2705       <NA>           917050\n",
       "2501659 3624       <NA>           948735\n",
       "2501660 2700       <NA>           917734\n",
       "2501661 3616       <NA>           952702\n",
       "2501662 2627       <NA>           912825\n",
       "2501663 2781       <NA>           924735\n",
       "2501664 2789       <NA>           918735\n",
       "2501665 2789       <NA>           922735\n",
       "2501666 3200       <NA>           922735"
      ]
     },
     "metadata": {},
     "output_type": "display_data"
    }
   ],
   "source": [
    "url <- \"https://media.githubusercontent.com/media/grazomarin/real-estate-regression/main/data/real-estate.csv\"\n",
    "download.file(url, \"data/real-estate.csv\")\n",
    "real_estate_unfiltered <- read_csv(\"data/real-estate.csv\")\n",
    "real_estate_unfiltered"
   ]
  },
  {
   "cell_type": "markdown",
   "metadata": {},
   "source": [
    "### Data Cleaning and Wrangling\n",
    "From the dataset above, we can see missing values that are represented by \"NA\". \n",
    "\n",
    "Let's clean up the data and remove all of the NAs. Afterwards let's filter for the state of Pennsylvania, set the date of the sold houses to after 2010, convert price to thousands of dollars instead of dollars and select only critical variables.\n"
   ]
  },
  {
   "cell_type": "code",
   "execution_count": 20,
   "metadata": {
    "vscode": {
     "languageId": "r"
    }
   },
   "outputs": [
    {
     "data": {
      "text/html": [
       "<table class=\"dataframe\">\n",
       "<caption>A tibble: 105946 × 4</caption>\n",
       "<thead>\n",
       "\t<tr><th scope=col>bed</th><th scope=col>bath</th><th scope=col>house_size</th><th scope=col>price</th></tr>\n",
       "\t<tr><th scope=col>&lt;dbl&gt;</th><th scope=col>&lt;dbl&gt;</th><th scope=col>&lt;dbl&gt;</th><th scope=col>&lt;dbl&gt;</th></tr>\n",
       "</thead>\n",
       "<tbody>\n",
       "\t<tr><td>3</td><td>3</td><td>1865</td><td>279.900</td></tr>\n",
       "\t<tr><td>3</td><td>2</td><td>1306</td><td>259.900</td></tr>\n",
       "\t<tr><td>3</td><td>1</td><td> 904</td><td>135.900</td></tr>\n",
       "\t<tr><td>3</td><td>2</td><td>1161</td><td>285.000</td></tr>\n",
       "\t<tr><td>4</td><td>3</td><td>2661</td><td>349.000</td></tr>\n",
       "\t<tr><td>4</td><td>2</td><td>2142</td><td>269.000</td></tr>\n",
       "\t<tr><td>3</td><td>2</td><td>1509</td><td>139.995</td></tr>\n",
       "\t<tr><td>4</td><td>3</td><td>2354</td><td>237.000</td></tr>\n",
       "\t<tr><td>4</td><td>3</td><td>3126</td><td>349.999</td></tr>\n",
       "\t<tr><td>2</td><td>1</td><td> 912</td><td>250.000</td></tr>\n",
       "\t<tr><td>3</td><td>2</td><td>1922</td><td>160.000</td></tr>\n",
       "\t<tr><td>3</td><td>2</td><td>1900</td><td>424.900</td></tr>\n",
       "\t<tr><td>3</td><td>2</td><td>1562</td><td>139.999</td></tr>\n",
       "\t<tr><td>3</td><td>2</td><td>1497</td><td>189.000</td></tr>\n",
       "\t<tr><td>2</td><td>2</td><td>1360</td><td>234.900</td></tr>\n",
       "\t<tr><td>2</td><td>1</td><td>1904</td><td>182.000</td></tr>\n",
       "\t<tr><td>4</td><td>3</td><td>3656</td><td>420.000</td></tr>\n",
       "\t<tr><td>4</td><td>4</td><td>2149</td><td>250.000</td></tr>\n",
       "\t<tr><td>2</td><td>1</td><td> 600</td><td> 39.900</td></tr>\n",
       "\t<tr><td>4</td><td>3</td><td>2512</td><td>240.000</td></tr>\n",
       "\t<tr><td>3</td><td>3</td><td>1260</td><td>134.850</td></tr>\n",
       "\t<tr><td>3</td><td>3</td><td>2100</td><td>265.000</td></tr>\n",
       "\t<tr><td>3</td><td>3</td><td>2650</td><td>333.000</td></tr>\n",
       "\t<tr><td>3</td><td>2</td><td>1880</td><td>399.000</td></tr>\n",
       "\t<tr><td>2</td><td>2</td><td>1652</td><td>235.000</td></tr>\n",
       "\t<tr><td>4</td><td>3</td><td>2500</td><td>349.900</td></tr>\n",
       "\t<tr><td>3</td><td>2</td><td>4521</td><td>447.500</td></tr>\n",
       "\t<tr><td>3</td><td>1</td><td> 960</td><td>148.400</td></tr>\n",
       "\t<tr><td>2</td><td>2</td><td>1782</td><td>119.900</td></tr>\n",
       "\t<tr><td>3</td><td>2</td><td>2480</td><td>409.000</td></tr>\n",
       "\t<tr><td>⋮</td><td>⋮</td><td>⋮</td><td>⋮</td></tr>\n",
       "\t<tr><td>2</td><td>1</td><td>1228</td><td> 40.000</td></tr>\n",
       "\t<tr><td>3</td><td>2</td><td>1235</td><td>229.900</td></tr>\n",
       "\t<tr><td>3</td><td>2</td><td>2342</td><td>290.000</td></tr>\n",
       "\t<tr><td>4</td><td>3</td><td>3993</td><td>530.000</td></tr>\n",
       "\t<tr><td>4</td><td>3</td><td>2382</td><td>269.900</td></tr>\n",
       "\t<tr><td>3</td><td>2</td><td>1978</td><td>250.000</td></tr>\n",
       "\t<tr><td>3</td><td>1</td><td>1267</td><td>239.900</td></tr>\n",
       "\t<tr><td>3</td><td>4</td><td>1880</td><td>272.990</td></tr>\n",
       "\t<tr><td>4</td><td>3</td><td>2373</td><td>249.900</td></tr>\n",
       "\t<tr><td>4</td><td>3</td><td>3845</td><td>445.000</td></tr>\n",
       "\t<tr><td>3</td><td>3</td><td>1820</td><td>323.990</td></tr>\n",
       "\t<tr><td>4</td><td>4</td><td>4533</td><td>499.900</td></tr>\n",
       "\t<tr><td>3</td><td>3</td><td>1820</td><td>301.990</td></tr>\n",
       "\t<tr><td>3</td><td>3</td><td>1820</td><td>312.990</td></tr>\n",
       "\t<tr><td>3</td><td>2</td><td>1601</td><td>179.900</td></tr>\n",
       "\t<tr><td>3</td><td>3</td><td>1820</td><td>307.990</td></tr>\n",
       "\t<tr><td>3</td><td>2</td><td>1766</td><td>255.000</td></tr>\n",
       "\t<tr><td>3</td><td>3</td><td>2612</td><td>400.000</td></tr>\n",
       "\t<tr><td>3</td><td>1</td><td>1330</td><td>224.900</td></tr>\n",
       "\t<tr><td>4</td><td>4</td><td>2840</td><td>416.500</td></tr>\n",
       "\t<tr><td>4</td><td>4</td><td>2960</td><td>379.989</td></tr>\n",
       "\t<tr><td>4</td><td>2</td><td>1924</td><td>377.900</td></tr>\n",
       "\t<tr><td>3</td><td>1</td><td>2009</td><td>324.900</td></tr>\n",
       "\t<tr><td>3</td><td>2</td><td>1920</td><td>324.900</td></tr>\n",
       "\t<tr><td>3</td><td>3</td><td>2808</td><td>509.900</td></tr>\n",
       "\t<tr><td>4</td><td>4</td><td>3377</td><td>465.000</td></tr>\n",
       "\t<tr><td>4</td><td>4</td><td>2433</td><td>379.000</td></tr>\n",
       "\t<tr><td>3</td><td>2</td><td>1220</td><td>339.900</td></tr>\n",
       "\t<tr><td>3</td><td>3</td><td>3401</td><td>439.900</td></tr>\n",
       "\t<tr><td>3</td><td>3</td><td>1516</td><td>269.900</td></tr>\n",
       "</tbody>\n",
       "</table>\n"
      ],
      "text/latex": [
       "A tibble: 105946 × 4\n",
       "\\begin{tabular}{llll}\n",
       " bed & bath & house\\_size & price\\\\\n",
       " <dbl> & <dbl> & <dbl> & <dbl>\\\\\n",
       "\\hline\n",
       "\t 3 & 3 & 1865 & 279.900\\\\\n",
       "\t 3 & 2 & 1306 & 259.900\\\\\n",
       "\t 3 & 1 &  904 & 135.900\\\\\n",
       "\t 3 & 2 & 1161 & 285.000\\\\\n",
       "\t 4 & 3 & 2661 & 349.000\\\\\n",
       "\t 4 & 2 & 2142 & 269.000\\\\\n",
       "\t 3 & 2 & 1509 & 139.995\\\\\n",
       "\t 4 & 3 & 2354 & 237.000\\\\\n",
       "\t 4 & 3 & 3126 & 349.999\\\\\n",
       "\t 2 & 1 &  912 & 250.000\\\\\n",
       "\t 3 & 2 & 1922 & 160.000\\\\\n",
       "\t 3 & 2 & 1900 & 424.900\\\\\n",
       "\t 3 & 2 & 1562 & 139.999\\\\\n",
       "\t 3 & 2 & 1497 & 189.000\\\\\n",
       "\t 2 & 2 & 1360 & 234.900\\\\\n",
       "\t 2 & 1 & 1904 & 182.000\\\\\n",
       "\t 4 & 3 & 3656 & 420.000\\\\\n",
       "\t 4 & 4 & 2149 & 250.000\\\\\n",
       "\t 2 & 1 &  600 &  39.900\\\\\n",
       "\t 4 & 3 & 2512 & 240.000\\\\\n",
       "\t 3 & 3 & 1260 & 134.850\\\\\n",
       "\t 3 & 3 & 2100 & 265.000\\\\\n",
       "\t 3 & 3 & 2650 & 333.000\\\\\n",
       "\t 3 & 2 & 1880 & 399.000\\\\\n",
       "\t 2 & 2 & 1652 & 235.000\\\\\n",
       "\t 4 & 3 & 2500 & 349.900\\\\\n",
       "\t 3 & 2 & 4521 & 447.500\\\\\n",
       "\t 3 & 1 &  960 & 148.400\\\\\n",
       "\t 2 & 2 & 1782 & 119.900\\\\\n",
       "\t 3 & 2 & 2480 & 409.000\\\\\n",
       "\t ⋮ & ⋮ & ⋮ & ⋮\\\\\n",
       "\t 2 & 1 & 1228 &  40.000\\\\\n",
       "\t 3 & 2 & 1235 & 229.900\\\\\n",
       "\t 3 & 2 & 2342 & 290.000\\\\\n",
       "\t 4 & 3 & 3993 & 530.000\\\\\n",
       "\t 4 & 3 & 2382 & 269.900\\\\\n",
       "\t 3 & 2 & 1978 & 250.000\\\\\n",
       "\t 3 & 1 & 1267 & 239.900\\\\\n",
       "\t 3 & 4 & 1880 & 272.990\\\\\n",
       "\t 4 & 3 & 2373 & 249.900\\\\\n",
       "\t 4 & 3 & 3845 & 445.000\\\\\n",
       "\t 3 & 3 & 1820 & 323.990\\\\\n",
       "\t 4 & 4 & 4533 & 499.900\\\\\n",
       "\t 3 & 3 & 1820 & 301.990\\\\\n",
       "\t 3 & 3 & 1820 & 312.990\\\\\n",
       "\t 3 & 2 & 1601 & 179.900\\\\\n",
       "\t 3 & 3 & 1820 & 307.990\\\\\n",
       "\t 3 & 2 & 1766 & 255.000\\\\\n",
       "\t 3 & 3 & 2612 & 400.000\\\\\n",
       "\t 3 & 1 & 1330 & 224.900\\\\\n",
       "\t 4 & 4 & 2840 & 416.500\\\\\n",
       "\t 4 & 4 & 2960 & 379.989\\\\\n",
       "\t 4 & 2 & 1924 & 377.900\\\\\n",
       "\t 3 & 1 & 2009 & 324.900\\\\\n",
       "\t 3 & 2 & 1920 & 324.900\\\\\n",
       "\t 3 & 3 & 2808 & 509.900\\\\\n",
       "\t 4 & 4 & 3377 & 465.000\\\\\n",
       "\t 4 & 4 & 2433 & 379.000\\\\\n",
       "\t 3 & 2 & 1220 & 339.900\\\\\n",
       "\t 3 & 3 & 3401 & 439.900\\\\\n",
       "\t 3 & 3 & 1516 & 269.900\\\\\n",
       "\\end{tabular}\n"
      ],
      "text/markdown": [
       "\n",
       "A tibble: 105946 × 4\n",
       "\n",
       "| bed &lt;dbl&gt; | bath &lt;dbl&gt; | house_size &lt;dbl&gt; | price &lt;dbl&gt; |\n",
       "|---|---|---|---|\n",
       "| 3 | 3 | 1865 | 279.900 |\n",
       "| 3 | 2 | 1306 | 259.900 |\n",
       "| 3 | 1 |  904 | 135.900 |\n",
       "| 3 | 2 | 1161 | 285.000 |\n",
       "| 4 | 3 | 2661 | 349.000 |\n",
       "| 4 | 2 | 2142 | 269.000 |\n",
       "| 3 | 2 | 1509 | 139.995 |\n",
       "| 4 | 3 | 2354 | 237.000 |\n",
       "| 4 | 3 | 3126 | 349.999 |\n",
       "| 2 | 1 |  912 | 250.000 |\n",
       "| 3 | 2 | 1922 | 160.000 |\n",
       "| 3 | 2 | 1900 | 424.900 |\n",
       "| 3 | 2 | 1562 | 139.999 |\n",
       "| 3 | 2 | 1497 | 189.000 |\n",
       "| 2 | 2 | 1360 | 234.900 |\n",
       "| 2 | 1 | 1904 | 182.000 |\n",
       "| 4 | 3 | 3656 | 420.000 |\n",
       "| 4 | 4 | 2149 | 250.000 |\n",
       "| 2 | 1 |  600 |  39.900 |\n",
       "| 4 | 3 | 2512 | 240.000 |\n",
       "| 3 | 3 | 1260 | 134.850 |\n",
       "| 3 | 3 | 2100 | 265.000 |\n",
       "| 3 | 3 | 2650 | 333.000 |\n",
       "| 3 | 2 | 1880 | 399.000 |\n",
       "| 2 | 2 | 1652 | 235.000 |\n",
       "| 4 | 3 | 2500 | 349.900 |\n",
       "| 3 | 2 | 4521 | 447.500 |\n",
       "| 3 | 1 |  960 | 148.400 |\n",
       "| 2 | 2 | 1782 | 119.900 |\n",
       "| 3 | 2 | 2480 | 409.000 |\n",
       "| ⋮ | ⋮ | ⋮ | ⋮ |\n",
       "| 2 | 1 | 1228 |  40.000 |\n",
       "| 3 | 2 | 1235 | 229.900 |\n",
       "| 3 | 2 | 2342 | 290.000 |\n",
       "| 4 | 3 | 3993 | 530.000 |\n",
       "| 4 | 3 | 2382 | 269.900 |\n",
       "| 3 | 2 | 1978 | 250.000 |\n",
       "| 3 | 1 | 1267 | 239.900 |\n",
       "| 3 | 4 | 1880 | 272.990 |\n",
       "| 4 | 3 | 2373 | 249.900 |\n",
       "| 4 | 3 | 3845 | 445.000 |\n",
       "| 3 | 3 | 1820 | 323.990 |\n",
       "| 4 | 4 | 4533 | 499.900 |\n",
       "| 3 | 3 | 1820 | 301.990 |\n",
       "| 3 | 3 | 1820 | 312.990 |\n",
       "| 3 | 2 | 1601 | 179.900 |\n",
       "| 3 | 3 | 1820 | 307.990 |\n",
       "| 3 | 2 | 1766 | 255.000 |\n",
       "| 3 | 3 | 2612 | 400.000 |\n",
       "| 3 | 1 | 1330 | 224.900 |\n",
       "| 4 | 4 | 2840 | 416.500 |\n",
       "| 4 | 4 | 2960 | 379.989 |\n",
       "| 4 | 2 | 1924 | 377.900 |\n",
       "| 3 | 1 | 2009 | 324.900 |\n",
       "| 3 | 2 | 1920 | 324.900 |\n",
       "| 3 | 3 | 2808 | 509.900 |\n",
       "| 4 | 4 | 3377 | 465.000 |\n",
       "| 4 | 4 | 2433 | 379.000 |\n",
       "| 3 | 2 | 1220 | 339.900 |\n",
       "| 3 | 3 | 3401 | 439.900 |\n",
       "| 3 | 3 | 1516 | 269.900 |\n",
       "\n"
      ],
      "text/plain": [
       "       bed bath house_size price  \n",
       "1      3   3    1865       279.900\n",
       "2      3   2    1306       259.900\n",
       "3      3   1     904       135.900\n",
       "4      3   2    1161       285.000\n",
       "5      4   3    2661       349.000\n",
       "6      4   2    2142       269.000\n",
       "7      3   2    1509       139.995\n",
       "8      4   3    2354       237.000\n",
       "9      4   3    3126       349.999\n",
       "10     2   1     912       250.000\n",
       "11     3   2    1922       160.000\n",
       "12     3   2    1900       424.900\n",
       "13     3   2    1562       139.999\n",
       "14     3   2    1497       189.000\n",
       "15     2   2    1360       234.900\n",
       "16     2   1    1904       182.000\n",
       "17     4   3    3656       420.000\n",
       "18     4   4    2149       250.000\n",
       "19     2   1     600        39.900\n",
       "20     4   3    2512       240.000\n",
       "21     3   3    1260       134.850\n",
       "22     3   3    2100       265.000\n",
       "23     3   3    2650       333.000\n",
       "24     3   2    1880       399.000\n",
       "25     2   2    1652       235.000\n",
       "26     4   3    2500       349.900\n",
       "27     3   2    4521       447.500\n",
       "28     3   1     960       148.400\n",
       "29     2   2    1782       119.900\n",
       "30     3   2    2480       409.000\n",
       "⋮      ⋮   ⋮    ⋮          ⋮      \n",
       "105917 2   1    1228        40.000\n",
       "105918 3   2    1235       229.900\n",
       "105919 3   2    2342       290.000\n",
       "105920 4   3    3993       530.000\n",
       "105921 4   3    2382       269.900\n",
       "105922 3   2    1978       250.000\n",
       "105923 3   1    1267       239.900\n",
       "105924 3   4    1880       272.990\n",
       "105925 4   3    2373       249.900\n",
       "105926 4   3    3845       445.000\n",
       "105927 3   3    1820       323.990\n",
       "105928 4   4    4533       499.900\n",
       "105929 3   3    1820       301.990\n",
       "105930 3   3    1820       312.990\n",
       "105931 3   2    1601       179.900\n",
       "105932 3   3    1820       307.990\n",
       "105933 3   2    1766       255.000\n",
       "105934 3   3    2612       400.000\n",
       "105935 3   1    1330       224.900\n",
       "105936 4   4    2840       416.500\n",
       "105937 4   4    2960       379.989\n",
       "105938 4   2    1924       377.900\n",
       "105939 3   1    2009       324.900\n",
       "105940 3   2    1920       324.900\n",
       "105941 3   3    2808       509.900\n",
       "105942 4   4    3377       465.000\n",
       "105943 4   4    2433       379.000\n",
       "105944 3   2    1220       339.900\n",
       "105945 3   3    3401       439.900\n",
       "105946 3   3    1516       269.900"
      ]
     },
     "metadata": {},
     "output_type": "display_data"
    }
   ],
   "source": [
    "real_estate <- real_estate_unfiltered |>\n",
    "  na.omit() |>\n",
    "  filter(state == \"Pennsylvania\", prev_sold_date > \"2015-01-01\", price < 1000000, house_size < 5000, bath <= 6, bed <= 6) |>\n",
    "  mutate(price = price / 1000) |>\n",
    "  select(bed, bath, house_size, price)\n",
    "\n",
    "real_estate "
   ]
  },
  {
   "cell_type": "markdown",
   "metadata": {},
   "source": [
    "## Visualization\n",
    "\n",
    "Let's visualize price against house_size to see what type of corelation are we dealing with and whether we have any outliers. And let's create 2 bar plots of average price against # of bedrooms and bathrooms"
   ]
  },
  {
   "cell_type": "code",
   "execution_count": 21,
   "metadata": {
    "vscode": {
     "languageId": "r"
    }
   },
   "outputs": [
    {
     "data": {
      "image/png": "[encoded data removed]",
      "text/plain": [
       "plot without title"
      ]
     },
     "metadata": {
      "image/png": {
       "height": 420,
       "width": 420
      }
     },
     "output_type": "display_data"
    }
   ],
   "source": [
    "real_estate |> ggplot(aes(x = house_size, y = price)) +\n",
    "  geom_point(alpha = 0.2) +\n",
    "  labs(title = \"House Size vs Price\", x = \"House Size in sqft\", y = \"Price (in thousands)\") +\n",
    "  theme(text = element_text(size = 18))"
   ]
  },
  {
   "cell_type": "markdown",
   "metadata": {},
   "source": [
    "We can see that there is a strong positive corelation between house size and price up to 2500 sqft. After 2500 sqft the corelation gets weaker. The reason for corelation getting weaker could be that very large houses are usually located in the country side where the price of land and $ per sqft is much lower."
   ]
  },
  {
   "cell_type": "code",
   "execution_count": 22,
   "metadata": {
    "vscode": {
     "languageId": "r"
    }
   },
   "outputs": [
    {
     "data": {
      "text/html": [
       "<table class=\"dataframe\">\n",
       "<caption>A tibble: 6 × 2</caption>\n",
       "<thead>\n",
       "\t<tr><th scope=col>bath</th><th scope=col>avg_price</th></tr>\n",
       "\t<tr><th scope=col>&lt;dbl&gt;</th><th scope=col>&lt;dbl&gt;</th></tr>\n",
       "</thead>\n",
       "<tbody>\n",
       "\t<tr><td>1</td><td>161.7057</td></tr>\n",
       "\t<tr><td>2</td><td>244.6618</td></tr>\n",
       "\t<tr><td>3</td><td>392.9512</td></tr>\n",
       "\t<tr><td>4</td><td>525.3816</td></tr>\n",
       "\t<tr><td>5</td><td>652.8416</td></tr>\n",
       "\t<tr><td>6</td><td>675.8802</td></tr>\n",
       "</tbody>\n",
       "</table>\n"
      ],
      "text/latex": [
       "A tibble: 6 × 2\n",
       "\\begin{tabular}{ll}\n",
       " bath & avg\\_price\\\\\n",
       " <dbl> & <dbl>\\\\\n",
       "\\hline\n",
       "\t 1 & 161.7057\\\\\n",
       "\t 2 & 244.6618\\\\\n",
       "\t 3 & 392.9512\\\\\n",
       "\t 4 & 525.3816\\\\\n",
       "\t 5 & 652.8416\\\\\n",
       "\t 6 & 675.8802\\\\\n",
       "\\end{tabular}\n"
      ],
      "text/markdown": [
       "\n",
       "A tibble: 6 × 2\n",
       "\n",
       "| bath &lt;dbl&gt; | avg_price &lt;dbl&gt; |\n",
       "|---|---|\n",
       "| 1 | 161.7057 |\n",
       "| 2 | 244.6618 |\n",
       "| 3 | 392.9512 |\n",
       "| 4 | 525.3816 |\n",
       "| 5 | 652.8416 |\n",
       "| 6 | 675.8802 |\n",
       "\n"
      ],
      "text/plain": [
       "  bath avg_price\n",
       "1 1    161.7057 \n",
       "2 2    244.6618 \n",
       "3 3    392.9512 \n",
       "4 4    525.3816 \n",
       "5 5    652.8416 \n",
       "6 6    675.8802 "
      ]
     },
     "metadata": {},
     "output_type": "display_data"
    },
    {
     "data": {
      "text/html": [
       "<table class=\"dataframe\">\n",
       "<caption>A tibble: 6 × 2</caption>\n",
       "<thead>\n",
       "\t<tr><th scope=col>bed</th><th scope=col>avg_price</th></tr>\n",
       "\t<tr><th scope=col>&lt;dbl&gt;</th><th scope=col>&lt;dbl&gt;</th></tr>\n",
       "</thead>\n",
       "<tbody>\n",
       "\t<tr><td>1</td><td>177.4043</td></tr>\n",
       "\t<tr><td>2</td><td>196.4913</td></tr>\n",
       "\t<tr><td>3</td><td>272.7934</td></tr>\n",
       "\t<tr><td>4</td><td>379.8623</td></tr>\n",
       "\t<tr><td>5</td><td>410.2898</td></tr>\n",
       "\t<tr><td>6</td><td>356.2463</td></tr>\n",
       "</tbody>\n",
       "</table>\n"
      ],
      "text/latex": [
       "A tibble: 6 × 2\n",
       "\\begin{tabular}{ll}\n",
       " bed & avg\\_price\\\\\n",
       " <dbl> & <dbl>\\\\\n",
       "\\hline\n",
       "\t 1 & 177.4043\\\\\n",
       "\t 2 & 196.4913\\\\\n",
       "\t 3 & 272.7934\\\\\n",
       "\t 4 & 379.8623\\\\\n",
       "\t 5 & 410.2898\\\\\n",
       "\t 6 & 356.2463\\\\\n",
       "\\end{tabular}\n"
      ],
      "text/markdown": [
       "\n",
       "A tibble: 6 × 2\n",
       "\n",
       "| bed &lt;dbl&gt; | avg_price &lt;dbl&gt; |\n",
       "|---|---|\n",
       "| 1 | 177.4043 |\n",
       "| 2 | 196.4913 |\n",
       "| 3 | 272.7934 |\n",
       "| 4 | 379.8623 |\n",
       "| 5 | 410.2898 |\n",
       "| 6 | 356.2463 |\n",
       "\n"
      ],
      "text/plain": [
       "  bed avg_price\n",
       "1 1   177.4043 \n",
       "2 2   196.4913 \n",
       "3 3   272.7934 \n",
       "4 4   379.8623 \n",
       "5 5   410.2898 \n",
       "6 6   356.2463 "
      ]
     },
     "metadata": {},
     "output_type": "display_data"
    }
   ],
   "source": [
    "bath_price_average <- real_estate |>\n",
    "  group_by(bath) |>\n",
    "  summarize(avg_price = mean(price)) |>\n",
    "  arrange(bath)\n",
    "\n",
    "bath_price_average\n",
    "\n",
    "bed_price_average <- real_estate |>\n",
    "  group_by(bed) |>\n",
    "  summarize(avg_price = mean(price)) |>\n",
    "  arrange(bed)\n",
    "\n",
    "bed_price_average"
   ]
  },
  {
   "cell_type": "code",
   "execution_count": 23,
   "metadata": {
    "vscode": {
     "languageId": "r"
    }
   },
   "outputs": [
    {
     "data": {
      "image/png": "[encoded data removed]",
      "text/plain": [
       "plot without title"
      ]
     },
     "metadata": {
      "image/png": {
       "height": 420,
       "width": 420
      }
     },
     "output_type": "display_data"
    },
    {
     "data": {
      "image/png": "[encoded data removed]",
      "text/plain": [
       "plot without title"
      ]
     },
     "metadata": {
      "image/png": {
       "height": 420,
       "width": 420
      }
     },
     "output_type": "display_data"
    }
   ],
   "source": [
    "\n",
    "bath_price_average_plot <- bath_price_average |> ggplot(aes(x = bath, y = avg_price)) +\n",
    "  geom_bar(stat = \"identity\") +\n",
    "  labs(title = \"Average Price vs Bath #\", x = \"Bath #\", y = \"Average Price (in thousands)\") +\n",
    "  theme(text = element_text(size = 18))\n",
    "\n",
    "bath_price_average_plot\n",
    "\n",
    "bed_price_average_plot <- bed_price_average |> ggplot(aes(x = bed, y = avg_price)) +\n",
    "  geom_bar(stat = \"identity\") +\n",
    "  labs(title = \"Average Price vs Bedroom #\", x = \"Bedroom #\", y = \"Average Price (in thousands)\") +\n",
    "  theme(text = element_text(size = 18))\n",
    "\n",
    "bed_price_average_plot"
   ]
  },
  {
   "cell_type": "markdown",
   "metadata": {},
   "source": [
    "a positive trend can be seen between bathroom/bedroom # and price. The interesting finding in the bathroom plot is that the increment of the bathroom number increases the price by roughly the same amount"
   ]
  },
  {
   "cell_type": "markdown",
   "metadata": {},
   "source": [
    "## KNN Model Creation\n",
    "Now I will create a KNN regression model for the house size, bedroom #, bathroom # and price. We will use a 5 fold cross validation object to find the best number of k neighbors to use. "
   ]
  },
  {
   "cell_type": "code",
   "execution_count": 24,
   "metadata": {
    "vscode": {
     "languageId": "r"
    }
   },
   "outputs": [
    {
     "data": {
      "text/plain": [
       "══ Workflow ════════════════════════════════════════════════════════════════════\n",
       "\u001b[3mPreprocessor:\u001b[23m Recipe\n",
       "\u001b[3mModel:\u001b[23m nearest_neighbor()\n",
       "\n",
       "── Preprocessor ────────────────────────────────────────────────────────────────\n",
       "2 Recipe Steps\n",
       "\n",
       "• step_scale()\n",
       "• step_center()\n",
       "\n",
       "── Model ───────────────────────────────────────────────────────────────────────\n",
       "K-Nearest Neighbor Model Specification (regression)\n",
       "\n",
       "Main Arguments:\n",
       "  neighbors = tune()\n",
       "  weight_func = rectangular\n",
       "\n",
       "Computational engine: kknn \n"
      ]
     },
     "metadata": {},
     "output_type": "display_data"
    }
   ],
   "source": [
    "real_estate_split <- real_estate |> initial_split(prop = 0.75, strata = house_size)\n",
    "real_estate_train <- training(real_estate_split)\n",
    "real_estate_test <- testing(real_estate_split)\n",
    "\n",
    "lm_spec <- nearest_neighbor(weight_func = \"rectangular\", neighbors = tune()) |>\n",
    "  set_engine(\"kknn\") |>\n",
    "  set_mode(\"regression\")\n",
    "\n",
    "lm_vfold <- vfold_cv(real_estate_train, v = 5)\n",
    "\n",
    "lm_recipe <- recipe(price ~ house_size + bed + bath, data = real_estate_train) |> \n",
    "  step_scale(all_predictors()) |> \n",
    "  step_center(all_predictors())\n",
    "\n",
    "lm_wrkflw <- workflow() |>\n",
    "  add_recipe(lm_recipe) |>\n",
    "  add_model(lm_spec)\n",
    "\n",
    "lm_wrkflw"
   ]
  },
  {
   "cell_type": "markdown",
   "metadata": {},
   "source": [
    "now that we have created our model, let's find the best k, that produces the lowest RMSPE. You might notice that the range is very specific. The reason for that is that since our dataset is too large, it takes a very long time to comput the lm_mean, therefore I did it beforehand and just displayed the \"zoomed in\" part. (This is to make the TAs life easier)"
   ]
  },
  {
   "cell_type": "code",
   "execution_count": 25,
   "metadata": {
    "vscode": {
     "languageId": "r"
    }
   },
   "outputs": [
    {
     "data": {
      "text/html": [
       "<table class=\"dataframe\">\n",
       "<caption>A tibble: 1 × 7</caption>\n",
       "<thead>\n",
       "\t<tr><th scope=col>neighbors</th><th scope=col>.metric</th><th scope=col>.estimator</th><th scope=col>mean</th><th scope=col>n</th><th scope=col>std_err</th><th scope=col>.config</th></tr>\n",
       "\t<tr><th scope=col>&lt;dbl&gt;</th><th scope=col>&lt;chr&gt;</th><th scope=col>&lt;chr&gt;</th><th scope=col>&lt;dbl&gt;</th><th scope=col>&lt;int&gt;</th><th scope=col>&lt;dbl&gt;</th><th scope=col>&lt;chr&gt;</th></tr>\n",
       "</thead>\n",
       "<tbody>\n",
       "\t<tr><td>6</td><td>rmse</td><td>standard</td><td>75.5184</td><td>5</td><td>0.2848689</td><td>Preprocessor1_Model3</td></tr>\n",
       "</tbody>\n",
       "</table>\n"
      ],
      "text/latex": [
       "A tibble: 1 × 7\n",
       "\\begin{tabular}{lllllll}\n",
       " neighbors & .metric & .estimator & mean & n & std\\_err & .config\\\\\n",
       " <dbl> & <chr> & <chr> & <dbl> & <int> & <dbl> & <chr>\\\\\n",
       "\\hline\n",
       "\t 6 & rmse & standard & 75.5184 & 5 & 0.2848689 & Preprocessor1\\_Model3\\\\\n",
       "\\end{tabular}\n"
      ],
      "text/markdown": [
       "\n",
       "A tibble: 1 × 7\n",
       "\n",
       "| neighbors &lt;dbl&gt; | .metric &lt;chr&gt; | .estimator &lt;chr&gt; | mean &lt;dbl&gt; | n &lt;int&gt; | std_err &lt;dbl&gt; | .config &lt;chr&gt; |\n",
       "|---|---|---|---|---|---|---|\n",
       "| 6 | rmse | standard | 75.5184 | 5 | 0.2848689 | Preprocessor1_Model3 |\n",
       "\n"
      ],
      "text/plain": [
       "  neighbors .metric .estimator mean    n std_err   .config             \n",
       "1 6         rmse    standard   75.5184 5 0.2848689 Preprocessor1_Model3"
      ]
     },
     "metadata": {},
     "output_type": "display_data"
    },
    {
     "data": {
      "image/png": "[encoded data removed]",
      "text/plain": [
       "plot without title"
      ]
     },
     "metadata": {
      "image/png": {
       "height": 420,
       "width": 420
      }
     },
     "output_type": "display_data"
    }
   ],
   "source": [
    "# THIS WILL TAKE AT LEAST 5 MINUTES TO RUN\n",
    "\n",
    "gridvals <- tibble(neighbors = seq(from = 4, to = 7, by = 1))\n",
    "\n",
    "lm_mean <- lm_wrkflw |>\n",
    "  tune_grid(resamples = lm_vfold, grid = gridvals) |>\n",
    "  collect_metrics() |>\n",
    "  filter(.metric == \"rmse\")\n",
    "\n",
    "lm_mean_plot <- lm_mean |> ggplot(aes(x = neighbors, y = mean)) +\n",
    "  geom_point() +\n",
    "  geom_line() +\n",
    "  labs(title = \"RMSE vs Neighbors\", x = \"Neighbors\", y = \"RMSE\") +\n",
    "  theme(text = element_text(size = 18))\n",
    "\n",
    "lm_mean_min <- lm_mean |> filter(mean == min(mean))\n",
    "\n",
    "\n",
    "lm_mean_min\n",
    "lm_mean_plot"
   ]
  },
  {
   "cell_type": "markdown",
   "metadata": {},
   "source": [
    "the minimum RMSE is ~75000$ when K number is 5. ~75000$ is not too high of an error value, but it isn't low either, but it gives a good idea in what price range does a house fall into."
   ]
  },
  {
   "cell_type": "code",
   "execution_count": 29,
   "metadata": {
    "vscode": {
     "languageId": "r"
    }
   },
   "outputs": [
    {
     "data": {
      "text/html": [
       "<table class=\"dataframe\">\n",
       "<caption>A tibble: 1 × 3</caption>\n",
       "<thead>\n",
       "\t<tr><th scope=col>.metric</th><th scope=col>.estimator</th><th scope=col>.estimate</th></tr>\n",
       "\t<tr><th scope=col>&lt;chr&gt;</th><th scope=col>&lt;chr&gt;</th><th scope=col>&lt;dbl&gt;</th></tr>\n",
       "</thead>\n",
       "<tbody>\n",
       "\t<tr><td>rmse</td><td>standard</td><td>73.69459</td></tr>\n",
       "</tbody>\n",
       "</table>\n"
      ],
      "text/latex": [
       "A tibble: 1 × 3\n",
       "\\begin{tabular}{lll}\n",
       " .metric & .estimator & .estimate\\\\\n",
       " <chr> & <chr> & <dbl>\\\\\n",
       "\\hline\n",
       "\t rmse & standard & 73.69459\\\\\n",
       "\\end{tabular}\n"
      ],
      "text/markdown": [
       "\n",
       "A tibble: 1 × 3\n",
       "\n",
       "| .metric &lt;chr&gt; | .estimator &lt;chr&gt; | .estimate &lt;dbl&gt; |\n",
       "|---|---|---|\n",
       "| rmse | standard | 73.69459 |\n",
       "\n"
      ],
      "text/plain": [
       "  .metric .estimator .estimate\n",
       "1 rmse    standard   73.69459 "
      ]
     },
     "metadata": {},
     "output_type": "display_data"
    }
   ],
   "source": [
    "kmin <- 5\n",
    "\n",
    "lm_best_spec <- nearest_neighbor(weight_func = \"rectangular\", neighbors = kmin) |>\n",
    "  set_engine(\"kknn\") |>\n",
    "  set_mode(\"regression\")\n",
    "\n",
    "lm_best_fit <- workflow() |>\n",
    "  add_recipe(lm_recipe) |>\n",
    "  add_model(lm_best_spec) |>\n",
    "  fit(data = real_estate_train)\n",
    "\n",
    "lm_summary <- lm_best_fit |>\n",
    "  predict(real_estate_test) |>\n",
    "  bind_cols(real_estate_test) |>\n",
    "  metrics(truth = price, estimate = .pred) |>\n",
    "  filter(.metric == \"rmse\")\n",
    "\n",
    "lm_summary"
   ]
  },
  {
   "cell_type": "markdown",
   "metadata": {},
   "source": [
    "Congratulations we have created an KNN model that predicts a house's price base on its size, bedroom and bathroom count in the state of Pennsylvania."
   ]
  }
 ],
 "metadata": {
  "kernelspec": {
   "display_name": "R",
   "language": "R",
   "name": "ir"
  },
  "language_info": {
   "codemirror_mode": "r",
   "file_extension": ".r",
   "mimetype": "text/x-r-source",
   "name": "R",
   "pygments_lexer": "r",
   "version": "4.3.3"
  }
 },
 "nbformat": 4,
 "nbformat_minor": 2
}
