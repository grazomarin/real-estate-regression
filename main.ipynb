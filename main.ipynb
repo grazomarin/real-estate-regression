{
 "cells": [
  {
   "cell_type": "markdown",
   "metadata": {},
   "source": [
    "# USA Real Estate Prices Prediction\n",
    "## Introduction\n",
    "For the past decades real estate has been one of the hottest topics and especially in North America. The goal of my project is to use history of previously sold real-estate properties to predict the the price of any given real estate. The dataset encompasses dates of sale from 1900 up to 2023. Of course I won't be using all of the data, only from 2010-2023 to account for inflation and devaluation of USD. \n",
    "\n",
    "The question that will be answered throughout this project is: \n",
    "> **How much will a given property cost given the past history of real-estate sold?**\n",
    "\n",
    "## Methods\n",
    "The variables that I will be using to answer the major question are: \n",
    "1. bed - number of beds \n",
    "2. bath - number of baths\n",
    "3. city - city in which the property was sold\n",
    "4. state - state in which the property was sold\n",
    "5. acre lot - how many acres was the land\n",
    "6. house size - how big is the living space in square feet\n",
    "7. price - price of the property in thousands of USD\n",
    "\n",
    "## Expected outcomes and significance:\n",
    "### What do you expect to find?\n",
    "That overall the housing prices are on the rise\n",
    "### What impact could such findings have?\n",
    "It can give you an idea of how bad of a condition housing market is\n",
    "### What future questions could this lead to?\n",
    "Will the prices increase or decrease in the future?"
   ]
  },
  {
   "cell_type": "code",
   "execution_count": 22,
   "metadata": {
    "vscode": {
     "languageId": "r"
    }
   },
   "outputs": [
    {
     "name": "stderr",
     "output_type": "stream",
     "text": [
      "Warning message:\n",
      "\"package 'tidyverse' is in use and will not be installed\"\n",
      "Warning message:\n",
      "\"package 'repr' is in use and will not be installed\"\n",
      "Warning message:\n",
      "\"package 'tidymodels' is in use and will not be installed\"\n"
     ]
    }
   ],
   "source": [
    "# install these packages! it is going to take a bit\n",
    "install.packages(\"tidyverse\")\n",
    "install.packages(\"repr\")\n",
    "install.packages(\"tidymodels\")"
   ]
  },
  {
   "cell_type": "code",
   "execution_count": 23,
   "metadata": {
    "vscode": {
     "languageId": "r"
    }
   },
   "outputs": [],
   "source": [
    "# Run this cell before continuing.\n",
    "library(ggplot2)\n",
    "library(tidyverse)\n",
    "library(repr)\n",
    "library(tidymodels)"
   ]
  },
  {
   "cell_type": "markdown",
   "metadata": {},
   "source": [
    "In the cell below I \"cleaned up\" the initial dataset. The new dataset will serve as the \"main\" dataset using which we will be asking questions further down the project!"
   ]
  },
  {
   "cell_type": "code",
   "execution_count": 24,
   "metadata": {
    "vscode": {
     "languageId": "r"
    }
   },
   "outputs": [
    {
     "name": "stderr",
     "output_type": "stream",
     "text": [
      "\u001b[1mRows: \u001b[22m\u001b[34m2501666\u001b[39m \u001b[1mColumns: \u001b[22m\u001b[34m10\u001b[39m\n",
      "\u001b[36m──\u001b[39m \u001b[1mColumn specification\u001b[22m \u001b[36m────────────────────────────────────────────────────────\u001b[39m\n",
      "\u001b[1mDelimiter:\u001b[22m \",\"\n",
      "\u001b[31mchr\u001b[39m  (3): status, city, state\n",
      "\u001b[32mdbl\u001b[39m  (6): bed, bath, acre_lot, zip_code, house_size, price\n",
      "\u001b[34mdate\u001b[39m (1): prev_sold_date\n",
      "\n",
      "\u001b[36mℹ\u001b[39m Use `spec()` to retrieve the full column specification for this data.\n",
      "\u001b[36mℹ\u001b[39m Specify the column types or set `show_col_types = FALSE` to quiet this message.\n"
     ]
    },
    {
     "data": {
      "text/html": [
       "<table class=\"dataframe\">\n",
       "<caption>A tibble: 15 × 10</caption>\n",
       "<thead>\n",
       "\t<tr><th scope=col>status</th><th scope=col>bed</th><th scope=col>bath</th><th scope=col>acre_lot</th><th scope=col>city</th><th scope=col>state</th><th scope=col>zip_code</th><th scope=col>house_size</th><th scope=col>prev_sold_date</th><th scope=col>price</th></tr>\n",
       "\t<tr><th scope=col>&lt;chr&gt;</th><th scope=col>&lt;dbl&gt;</th><th scope=col>&lt;dbl&gt;</th><th scope=col>&lt;dbl&gt;</th><th scope=col>&lt;chr&gt;</th><th scope=col>&lt;chr&gt;</th><th scope=col>&lt;dbl&gt;</th><th scope=col>&lt;dbl&gt;</th><th scope=col>&lt;date&gt;</th><th scope=col>&lt;dbl&gt;</th></tr>\n",
       "</thead>\n",
       "<tbody>\n",
       "\t<tr><td>for_sale</td><td>7</td><td>3</td><td>0.09</td><td>Dorado      </td><td>Puerto Rico   </td><td>949</td><td>1192</td><td>2019-06-28</td><td> 110</td></tr>\n",
       "\t<tr><td>for_sale</td><td>7</td><td>3</td><td>0.09</td><td>Dorado      </td><td>Puerto Rico   </td><td>949</td><td>1192</td><td>2019-06-28</td><td> 110</td></tr>\n",
       "\t<tr><td>for_sale</td><td>7</td><td>3</td><td>0.09</td><td>Dorado      </td><td>Puerto Rico   </td><td>949</td><td>1192</td><td>2019-06-28</td><td> 110</td></tr>\n",
       "\t<tr><td>for_sale</td><td>7</td><td>3</td><td>0.09</td><td>Dorado      </td><td>Puerto Rico   </td><td>949</td><td>1192</td><td>2019-06-28</td><td> 110</td></tr>\n",
       "\t<tr><td>for_sale</td><td>7</td><td>3</td><td>0.09</td><td>Dorado      </td><td>Puerto Rico   </td><td>949</td><td>1192</td><td>2019-06-28</td><td> 110</td></tr>\n",
       "\t<tr><td>for_sale</td><td>5</td><td>4</td><td>0.99</td><td>Saint Thomas</td><td>Virgin Islands</td><td>802</td><td>5000</td><td>2013-10-11</td><td> 950</td></tr>\n",
       "\t<tr><td>for_sale</td><td>4</td><td>6</td><td>0.83</td><td>Saint Thomas</td><td>Virgin Islands</td><td>802</td><td>4600</td><td>2018-04-05</td><td>6899</td></tr>\n",
       "\t<tr><td>for_sale</td><td>4</td><td>6</td><td>0.83</td><td>Saint Thomas</td><td>Virgin Islands</td><td>802</td><td>4600</td><td>2018-04-05</td><td>6899</td></tr>\n",
       "\t<tr><td>for_sale</td><td>4</td><td>6</td><td>0.83</td><td>Saint Thomas</td><td>Virgin Islands</td><td>802</td><td>4600</td><td>2018-04-05</td><td>6899</td></tr>\n",
       "\t<tr><td>for_sale</td><td>7</td><td>3</td><td>0.09</td><td>Dorado      </td><td>Puerto Rico   </td><td>949</td><td>1192</td><td>2019-06-28</td><td> 110</td></tr>\n",
       "\t<tr><td>for_sale</td><td>5</td><td>4</td><td>0.99</td><td>Saint Thomas</td><td>Virgin Islands</td><td>802</td><td>5000</td><td>2013-10-11</td><td> 950</td></tr>\n",
       "\t<tr><td>for_sale</td><td>5</td><td>4</td><td>0.99</td><td>Saint Thomas</td><td>Virgin Islands</td><td>802</td><td>5000</td><td>2013-10-11</td><td> 950</td></tr>\n",
       "\t<tr><td>for_sale</td><td>7</td><td>3</td><td>0.09</td><td>Dorado      </td><td>Puerto Rico   </td><td>949</td><td>1192</td><td>2019-06-28</td><td> 110</td></tr>\n",
       "\t<tr><td>for_sale</td><td>7</td><td>3</td><td>0.09</td><td>Dorado      </td><td>Puerto Rico   </td><td>949</td><td>1192</td><td>2019-06-28</td><td> 110</td></tr>\n",
       "\t<tr><td>for_sale</td><td>7</td><td>3</td><td>0.09</td><td>Dorado      </td><td>Puerto Rico   </td><td>949</td><td>1192</td><td>2019-06-28</td><td> 110</td></tr>\n",
       "</tbody>\n",
       "</table>\n"
      ],
      "text/latex": [
       "A tibble: 15 × 10\n",
       "\\begin{tabular}{llllllllll}\n",
       " status & bed & bath & acre\\_lot & city & state & zip\\_code & house\\_size & prev\\_sold\\_date & price\\\\\n",
       " <chr> & <dbl> & <dbl> & <dbl> & <chr> & <chr> & <dbl> & <dbl> & <date> & <dbl>\\\\\n",
       "\\hline\n",
       "\t for\\_sale & 7 & 3 & 0.09 & Dorado       & Puerto Rico    & 949 & 1192 & 2019-06-28 &  110\\\\\n",
       "\t for\\_sale & 7 & 3 & 0.09 & Dorado       & Puerto Rico    & 949 & 1192 & 2019-06-28 &  110\\\\\n",
       "\t for\\_sale & 7 & 3 & 0.09 & Dorado       & Puerto Rico    & 949 & 1192 & 2019-06-28 &  110\\\\\n",
       "\t for\\_sale & 7 & 3 & 0.09 & Dorado       & Puerto Rico    & 949 & 1192 & 2019-06-28 &  110\\\\\n",
       "\t for\\_sale & 7 & 3 & 0.09 & Dorado       & Puerto Rico    & 949 & 1192 & 2019-06-28 &  110\\\\\n",
       "\t for\\_sale & 5 & 4 & 0.99 & Saint Thomas & Virgin Islands & 802 & 5000 & 2013-10-11 &  950\\\\\n",
       "\t for\\_sale & 4 & 6 & 0.83 & Saint Thomas & Virgin Islands & 802 & 4600 & 2018-04-05 & 6899\\\\\n",
       "\t for\\_sale & 4 & 6 & 0.83 & Saint Thomas & Virgin Islands & 802 & 4600 & 2018-04-05 & 6899\\\\\n",
       "\t for\\_sale & 4 & 6 & 0.83 & Saint Thomas & Virgin Islands & 802 & 4600 & 2018-04-05 & 6899\\\\\n",
       "\t for\\_sale & 7 & 3 & 0.09 & Dorado       & Puerto Rico    & 949 & 1192 & 2019-06-28 &  110\\\\\n",
       "\t for\\_sale & 5 & 4 & 0.99 & Saint Thomas & Virgin Islands & 802 & 5000 & 2013-10-11 &  950\\\\\n",
       "\t for\\_sale & 5 & 4 & 0.99 & Saint Thomas & Virgin Islands & 802 & 5000 & 2013-10-11 &  950\\\\\n",
       "\t for\\_sale & 7 & 3 & 0.09 & Dorado       & Puerto Rico    & 949 & 1192 & 2019-06-28 &  110\\\\\n",
       "\t for\\_sale & 7 & 3 & 0.09 & Dorado       & Puerto Rico    & 949 & 1192 & 2019-06-28 &  110\\\\\n",
       "\t for\\_sale & 7 & 3 & 0.09 & Dorado       & Puerto Rico    & 949 & 1192 & 2019-06-28 &  110\\\\\n",
       "\\end{tabular}\n"
      ],
      "text/markdown": [
       "\n",
       "A tibble: 15 × 10\n",
       "\n",
       "| status &lt;chr&gt; | bed &lt;dbl&gt; | bath &lt;dbl&gt; | acre_lot &lt;dbl&gt; | city &lt;chr&gt; | state &lt;chr&gt; | zip_code &lt;dbl&gt; | house_size &lt;dbl&gt; | prev_sold_date &lt;date&gt; | price &lt;dbl&gt; |\n",
       "|---|---|---|---|---|---|---|---|---|---|\n",
       "| for_sale | 7 | 3 | 0.09 | Dorado       | Puerto Rico    | 949 | 1192 | 2019-06-28 |  110 |\n",
       "| for_sale | 7 | 3 | 0.09 | Dorado       | Puerto Rico    | 949 | 1192 | 2019-06-28 |  110 |\n",
       "| for_sale | 7 | 3 | 0.09 | Dorado       | Puerto Rico    | 949 | 1192 | 2019-06-28 |  110 |\n",
       "| for_sale | 7 | 3 | 0.09 | Dorado       | Puerto Rico    | 949 | 1192 | 2019-06-28 |  110 |\n",
       "| for_sale | 7 | 3 | 0.09 | Dorado       | Puerto Rico    | 949 | 1192 | 2019-06-28 |  110 |\n",
       "| for_sale | 5 | 4 | 0.99 | Saint Thomas | Virgin Islands | 802 | 5000 | 2013-10-11 |  950 |\n",
       "| for_sale | 4 | 6 | 0.83 | Saint Thomas | Virgin Islands | 802 | 4600 | 2018-04-05 | 6899 |\n",
       "| for_sale | 4 | 6 | 0.83 | Saint Thomas | Virgin Islands | 802 | 4600 | 2018-04-05 | 6899 |\n",
       "| for_sale | 4 | 6 | 0.83 | Saint Thomas | Virgin Islands | 802 | 4600 | 2018-04-05 | 6899 |\n",
       "| for_sale | 7 | 3 | 0.09 | Dorado       | Puerto Rico    | 949 | 1192 | 2019-06-28 |  110 |\n",
       "| for_sale | 5 | 4 | 0.99 | Saint Thomas | Virgin Islands | 802 | 5000 | 2013-10-11 |  950 |\n",
       "| for_sale | 5 | 4 | 0.99 | Saint Thomas | Virgin Islands | 802 | 5000 | 2013-10-11 |  950 |\n",
       "| for_sale | 7 | 3 | 0.09 | Dorado       | Puerto Rico    | 949 | 1192 | 2019-06-28 |  110 |\n",
       "| for_sale | 7 | 3 | 0.09 | Dorado       | Puerto Rico    | 949 | 1192 | 2019-06-28 |  110 |\n",
       "| for_sale | 7 | 3 | 0.09 | Dorado       | Puerto Rico    | 949 | 1192 | 2019-06-28 |  110 |\n",
       "\n"
      ],
      "text/plain": [
       "   status   bed bath acre_lot city         state          zip_code house_size\n",
       "1  for_sale 7   3    0.09     Dorado       Puerto Rico    949      1192      \n",
       "2  for_sale 7   3    0.09     Dorado       Puerto Rico    949      1192      \n",
       "3  for_sale 7   3    0.09     Dorado       Puerto Rico    949      1192      \n",
       "4  for_sale 7   3    0.09     Dorado       Puerto Rico    949      1192      \n",
       "5  for_sale 7   3    0.09     Dorado       Puerto Rico    949      1192      \n",
       "6  for_sale 5   4    0.99     Saint Thomas Virgin Islands 802      5000      \n",
       "7  for_sale 4   6    0.83     Saint Thomas Virgin Islands 802      4600      \n",
       "8  for_sale 4   6    0.83     Saint Thomas Virgin Islands 802      4600      \n",
       "9  for_sale 4   6    0.83     Saint Thomas Virgin Islands 802      4600      \n",
       "10 for_sale 7   3    0.09     Dorado       Puerto Rico    949      1192      \n",
       "11 for_sale 5   4    0.99     Saint Thomas Virgin Islands 802      5000      \n",
       "12 for_sale 5   4    0.99     Saint Thomas Virgin Islands 802      5000      \n",
       "13 for_sale 7   3    0.09     Dorado       Puerto Rico    949      1192      \n",
       "14 for_sale 7   3    0.09     Dorado       Puerto Rico    949      1192      \n",
       "15 for_sale 7   3    0.09     Dorado       Puerto Rico    949      1192      \n",
       "   prev_sold_date price\n",
       "1  2019-06-28      110 \n",
       "2  2019-06-28      110 \n",
       "3  2019-06-28      110 \n",
       "4  2019-06-28      110 \n",
       "5  2019-06-28      110 \n",
       "6  2013-10-11      950 \n",
       "7  2018-04-05     6899 \n",
       "8  2018-04-05     6899 \n",
       "9  2018-04-05     6899 \n",
       "10 2019-06-28      110 \n",
       "11 2013-10-11      950 \n",
       "12 2013-10-11      950 \n",
       "13 2019-06-28      110 \n",
       "14 2019-06-28      110 \n",
       "15 2019-06-28      110 "
      ]
     },
     "metadata": {},
     "output_type": "display_data"
    }
   ],
   "source": [
    "url <- \"https://media.githubusercontent.com/media/grazomarin/real-estate-regression/main/data/real-estate.csv\"\n",
    "download.file(url, \"data/real-estate.csv\")\n",
    "real_estate_unfiltered <- read_csv(\"data/real-estate.csv\")\n",
    "\n",
    "real_estate <- real_estate_unfiltered |> na.omit() |> filter(prev_sold_date > \"2010-01-01\") |> mutate(price = price / 1000)\n",
    "real_estate |> head(15)"
   ]
  },
  {
   "cell_type": "code",
   "execution_count": 25,
   "metadata": {
    "vscode": {
     "languageId": "r"
    }
   },
   "outputs": [
    {
     "data": {
      "image/png": "[encoded data removed]",
      "text/plain": [
       "plot without title"
      ]
     },
     "metadata": {
      "image/png": {
       "height": 420,
       "width": 420
      }
     },
     "output_type": "display_data"
    }
   ],
   "source": [
    "washington <- real_estate |>\n",
    "  filter(city == \"Washington\")\n",
    "\n",
    "\n",
    "ggplot(washington, aes(y = price, x = bed)) +\n",
    "  geom_point() +\n",
    "  labs(y = \"Price in thousands of USD\", x = \"# of Bedrooms\") +\n",
    "  ggtitle(\"Scatter Plot of Price vs # of Bedrooms\") +\n",
    "  scale_x_log10() +\n",
    "  theme(text = element_text(size = 15))\n"
   ]
  }
 ],
 "metadata": {
  "kernelspec": {
   "display_name": "R",
   "language": "R",
   "name": "ir"
  },
  "language_info": {
   "codemirror_mode": "r",
   "file_extension": ".r",
   "mimetype": "text/x-r-source",
   "name": "R",
   "pygments_lexer": "r",
   "version": "4.3.3"
  }
 },
 "nbformat": 4,
 "nbformat_minor": 2
}
